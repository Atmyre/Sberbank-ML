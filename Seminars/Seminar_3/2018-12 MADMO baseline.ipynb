{
 "cells": [
  {
   "cell_type": "markdown",
   "metadata": {},
   "source": [
    "# let's import libraries"
   ]
  },
  {
   "cell_type": "code",
   "execution_count": 2,
   "metadata": {},
   "outputs": [],
   "source": [
    "import pandas as pd\n",
    "import numpy as np\n",
    "from sklearn.ensemble import RandomForestClassifier\n",
    "from sklearn.model_selection import train_test_split, cross_val_score, KFold, GridSearchCV\n",
    "from sklearn.metrics import accuracy_score\n",
    "import collections"
   ]
  },
  {
   "cell_type": "markdown",
   "metadata": {},
   "source": [
    "# let's extract train"
   ]
  },
  {
   "cell_type": "code",
   "execution_count": 2,
   "metadata": {},
   "outputs": [
    {
     "data": {
      "text/html": [
       "<div>\n",
       "<style scoped>\n",
       "    .dataframe tbody tr th:only-of-type {\n",
       "        vertical-align: middle;\n",
       "    }\n",
       "\n",
       "    .dataframe tbody tr th {\n",
       "        vertical-align: top;\n",
       "    }\n",
       "\n",
       "    .dataframe thead th {\n",
       "        text-align: right;\n",
       "    }\n",
       "</style>\n",
       "<table border=\"1\" class=\"dataframe\">\n",
       "  <thead>\n",
       "    <tr style=\"text-align: right;\">\n",
       "      <th></th>\n",
       "      <th>id</th>\n",
       "      <th>age</th>\n",
       "      <th>workclass</th>\n",
       "      <th>fnlwgt</th>\n",
       "      <th>education</th>\n",
       "      <th>education-num</th>\n",
       "      <th>marital-status</th>\n",
       "      <th>occupation</th>\n",
       "      <th>relationship</th>\n",
       "      <th>race</th>\n",
       "      <th>sex</th>\n",
       "      <th>capital-gain</th>\n",
       "      <th>capital-loss</th>\n",
       "      <th>hours-per-week</th>\n",
       "      <th>native-country</th>\n",
       "      <th>target</th>\n",
       "    </tr>\n",
       "  </thead>\n",
       "  <tbody>\n",
       "    <tr>\n",
       "      <th>0</th>\n",
       "      <td>21983</td>\n",
       "      <td>18</td>\n",
       "      <td>Private</td>\n",
       "      <td>141363</td>\n",
       "      <td>Some-college</td>\n",
       "      <td>10</td>\n",
       "      <td>Never-married</td>\n",
       "      <td>Other-service</td>\n",
       "      <td>Not-in-family</td>\n",
       "      <td>White</td>\n",
       "      <td>Female</td>\n",
       "      <td>0</td>\n",
       "      <td>0</td>\n",
       "      <td>40</td>\n",
       "      <td>United-States</td>\n",
       "      <td>0</td>\n",
       "    </tr>\n",
       "    <tr>\n",
       "      <th>1</th>\n",
       "      <td>10063</td>\n",
       "      <td>38</td>\n",
       "      <td>Private</td>\n",
       "      <td>179579</td>\n",
       "      <td>Some-college</td>\n",
       "      <td>10</td>\n",
       "      <td>Married-civ-spouse</td>\n",
       "      <td>Prof-specialty</td>\n",
       "      <td>Husband</td>\n",
       "      <td>White</td>\n",
       "      <td>Male</td>\n",
       "      <td>0</td>\n",
       "      <td>0</td>\n",
       "      <td>50</td>\n",
       "      <td>?</td>\n",
       "      <td>1</td>\n",
       "    </tr>\n",
       "    <tr>\n",
       "      <th>2</th>\n",
       "      <td>16273</td>\n",
       "      <td>63</td>\n",
       "      <td>Private</td>\n",
       "      <td>172740</td>\n",
       "      <td>Some-college</td>\n",
       "      <td>10</td>\n",
       "      <td>Married-civ-spouse</td>\n",
       "      <td>Prof-specialty</td>\n",
       "      <td>Husband</td>\n",
       "      <td>White</td>\n",
       "      <td>Male</td>\n",
       "      <td>0</td>\n",
       "      <td>0</td>\n",
       "      <td>40</td>\n",
       "      <td>United-States</td>\n",
       "      <td>0</td>\n",
       "    </tr>\n",
       "    <tr>\n",
       "      <th>3</th>\n",
       "      <td>2208</td>\n",
       "      <td>35</td>\n",
       "      <td>Private</td>\n",
       "      <td>47707</td>\n",
       "      <td>HS-grad</td>\n",
       "      <td>9</td>\n",
       "      <td>Never-married</td>\n",
       "      <td>Other-service</td>\n",
       "      <td>Not-in-family</td>\n",
       "      <td>Black</td>\n",
       "      <td>Female</td>\n",
       "      <td>0</td>\n",
       "      <td>0</td>\n",
       "      <td>40</td>\n",
       "      <td>United-States</td>\n",
       "      <td>1</td>\n",
       "    </tr>\n",
       "    <tr>\n",
       "      <th>4</th>\n",
       "      <td>15914</td>\n",
       "      <td>32</td>\n",
       "      <td>Private</td>\n",
       "      <td>48458</td>\n",
       "      <td>HS-grad</td>\n",
       "      <td>9</td>\n",
       "      <td>Never-married</td>\n",
       "      <td>Sales</td>\n",
       "      <td>Own-child</td>\n",
       "      <td>Black</td>\n",
       "      <td>Female</td>\n",
       "      <td>0</td>\n",
       "      <td>1669</td>\n",
       "      <td>45</td>\n",
       "      <td>United-States</td>\n",
       "      <td>0</td>\n",
       "    </tr>\n",
       "  </tbody>\n",
       "</table>\n",
       "</div>"
      ],
      "text/plain": [
       "      id   age  workclass   fnlwgt      education   education-num  \\\n",
       "0  21983    18    Private   141363   Some-college              10   \n",
       "1  10063    38    Private   179579   Some-college              10   \n",
       "2  16273    63    Private   172740   Some-college              10   \n",
       "3   2208    35    Private    47707        HS-grad               9   \n",
       "4  15914    32    Private    48458        HS-grad               9   \n",
       "\n",
       "        marital-status       occupation    relationship    race      sex  \\\n",
       "0        Never-married    Other-service   Not-in-family   White   Female   \n",
       "1   Married-civ-spouse   Prof-specialty         Husband   White     Male   \n",
       "2   Married-civ-spouse   Prof-specialty         Husband   White     Male   \n",
       "3        Never-married    Other-service   Not-in-family   Black   Female   \n",
       "4        Never-married            Sales       Own-child   Black   Female   \n",
       "\n",
       "    capital-gain   capital-loss   hours-per-week  native-country  target  \n",
       "0              0              0               40   United-States       0  \n",
       "1              0              0               50               ?       1  \n",
       "2              0              0               40   United-States       0  \n",
       "3              0              0               40   United-States       1  \n",
       "4              0           1669               45   United-States       0  "
      ]
     },
     "execution_count": 2,
     "metadata": {},
     "output_type": "execute_result"
    }
   ],
   "source": [
    "df = pd.read_csv('train.csv')\n",
    "df.head(5)"
   ]
  },
  {
   "cell_type": "markdown",
   "metadata": {},
   "source": [
    "# let's transform data"
   ]
  },
  {
   "cell_type": "code",
   "execution_count": 3,
   "metadata": {},
   "outputs": [],
   "source": [
    "def transform_df(df):\n",
    "    df = df.rename(columns=lambda x: x.strip())\n",
    "    n_col = []\n",
    "    c_col = []\n",
    "    for k,v in df.dtypes.to_dict().items():\n",
    "        if v == 'int64':\n",
    "            n_col.append(k)\n",
    "        else:\n",
    "            c_col.append(k)\n",
    "\n",
    "    df[c_col] = df[c_col].apply(lambda x: x.str.strip(), axis=1)\n",
    "\n",
    "    #sex\n",
    "    df.sex.unique()\n",
    "    df['sex_b'] = df['sex'].map({'Male':1, 'Female':0})\n",
    "\n",
    "    #married\n",
    "    df['marital-status'].unique()\n",
    "    #не была замужем, разведенка, вдова, разбежались \n",
    "    one = ['Never-married','Divorced','Widowed','Separated']\n",
    "    #так или иначе женатики, гражданский и прочий браки\n",
    "    two = ['Married-civ-spouse','Married-spouse-absent','Married-AF-spouse']\n",
    "    df['marital-status_b'] = df['marital-status'].apply(lambda x: 1 if x in one else 0)\n",
    "    \n",
    "    return df, c_col"
   ]
  },
  {
   "cell_type": "code",
   "execution_count": 4,
   "metadata": {},
   "outputs": [],
   "source": [
    "df, c_col = transform_df(df)"
   ]
  },
  {
   "cell_type": "markdown",
   "metadata": {},
   "source": [
    "# let's try model"
   ]
  },
  {
   "cell_type": "code",
   "execution_count": 5,
   "metadata": {},
   "outputs": [],
   "source": [
    "df.drop(labels=c_col, axis = 1, inplace = True)\n",
    "\n",
    "Y = df.target.values\n",
    "X = df.drop(['id','target'], axis = 1).values\n",
    "size = 0.2\n",
    "seed = 10\n",
    "\n",
    "X_train, X_validation, Y_train, Y_validation = train_test_split(X,Y,test_size=size,random_state=seed)\n",
    "\n",
    "kfold = KFold(n_splits = 10, random_state = seed)\n",
    "\n",
    "cv_res = cross_val_score(RandomForestClassifier(n_estimators = 100, max_features = 3), X_train, Y_train, cv=kfold, scoring = 'accuracy')"
   ]
  },
  {
   "cell_type": "code",
   "execution_count": 6,
   "metadata": {},
   "outputs": [
    {
     "name": "stdout",
     "output_type": "stream",
     "text": [
      "0.7322888165609308 0.007333994347670994\n"
     ]
    }
   ],
   "source": [
    "print(cv_res.mean(), cv_res.std())"
   ]
  },
  {
   "cell_type": "markdown",
   "metadata": {},
   "source": [
    "# let's try to impove"
   ]
  },
  {
   "cell_type": "code",
   "execution_count": null,
   "metadata": {},
   "outputs": [],
   "source": [
    "n_estimators = np.array([50,100,200,250])\n",
    "max_features = np.array([1,3,5])\n",
    "\n",
    "grid_p = dict(n_estimators = n_estimators, max_features = max_features)\n",
    "md = RandomForestClassifier()\n",
    "kfold = KFold(10, random_state = 10)\n",
    "\n",
    "grid_cv = GridSearchCV(estimator = md, param_grid = grid_p, scoring = 'accuracy', cv = kfold)\n",
    "grid_res = grid_cv.fit(X_train, Y_train)\n",
    "\n",
    "means = grid_res.cv_results_['mean_test_score']\n",
    "stds = grid_res.cv_results_['std_test_score']\n",
    "params = grid_res.cv_results_['params']"
   ]
  },
  {
   "cell_type": "code",
   "execution_count": 7,
   "metadata": {},
   "outputs": [
    {
     "ename": "NameError",
     "evalue": "name 'means' is not defined",
     "output_type": "error",
     "traceback": [
      "\u001b[1;31m---------------------------------------------------------------------------\u001b[0m",
      "\u001b[1;31mNameError\u001b[0m                                 Traceback (most recent call last)",
      "\u001b[1;32m<ipython-input-7-0fb3c24ff3ca>\u001b[0m in \u001b[0;36m<module>\u001b[1;34m()\u001b[0m\n\u001b[1;32m----> 1\u001b[1;33m \u001b[1;32mfor\u001b[0m \u001b[0mm\u001b[0m\u001b[1;33m,\u001b[0m\u001b[0ms\u001b[0m\u001b[1;33m,\u001b[0m\u001b[0mp\u001b[0m \u001b[1;32min\u001b[0m \u001b[0mzip\u001b[0m\u001b[1;33m(\u001b[0m\u001b[0mmeans\u001b[0m\u001b[1;33m,\u001b[0m\u001b[0mstds\u001b[0m\u001b[1;33m,\u001b[0m\u001b[0mparams\u001b[0m\u001b[1;33m)\u001b[0m\u001b[1;33m:\u001b[0m\u001b[1;33m\u001b[0m\u001b[0m\n\u001b[0m\u001b[0;32m      2\u001b[0m     \u001b[0mprint\u001b[0m\u001b[1;33m(\u001b[0m\u001b[0mp\u001b[0m\u001b[1;33m,\u001b[0m\u001b[0mm\u001b[0m\u001b[1;33m,\u001b[0m\u001b[0ms\u001b[0m\u001b[1;33m)\u001b[0m\u001b[1;33m\u001b[0m\u001b[0m\n",
      "\u001b[1;31mNameError\u001b[0m: name 'means' is not defined"
     ]
    }
   ],
   "source": [
    "for m,s,p in zip(means,stds,params):\n",
    "    print(p,m,s)"
   ]
  },
  {
   "cell_type": "code",
   "execution_count": 8,
   "metadata": {},
   "outputs": [
    {
     "name": "stdout",
     "output_type": "stream",
     "text": [
      "72.26970560303894\n"
     ]
    }
   ],
   "source": [
    "md = RandomForestClassifier(n_estimators=250,max_features=5)\n",
    "md.fit(X_train, Y_train)\n",
    "prd = md.predict(X_validation)\n",
    "\n",
    "print((100*accuracy_score(Y_validation, prd)))"
   ]
  },
  {
   "cell_type": "markdown",
   "metadata": {},
   "source": [
    "# let's check test"
   ]
  },
  {
   "cell_type": "code",
   "execution_count": 9,
   "metadata": {},
   "outputs": [
    {
     "data": {
      "text/html": [
       "<div>\n",
       "<style scoped>\n",
       "    .dataframe tbody tr th:only-of-type {\n",
       "        vertical-align: middle;\n",
       "    }\n",
       "\n",
       "    .dataframe tbody tr th {\n",
       "        vertical-align: top;\n",
       "    }\n",
       "\n",
       "    .dataframe thead th {\n",
       "        text-align: right;\n",
       "    }\n",
       "</style>\n",
       "<table border=\"1\" class=\"dataframe\">\n",
       "  <thead>\n",
       "    <tr style=\"text-align: right;\">\n",
       "      <th></th>\n",
       "      <th>id</th>\n",
       "      <th>age</th>\n",
       "      <th>workclass</th>\n",
       "      <th>fnlwgt</th>\n",
       "      <th>education</th>\n",
       "      <th>education-num</th>\n",
       "      <th>marital-status</th>\n",
       "      <th>occupation</th>\n",
       "      <th>relationship</th>\n",
       "      <th>race</th>\n",
       "      <th>sex</th>\n",
       "      <th>capital-gain</th>\n",
       "      <th>capital-loss</th>\n",
       "      <th>hours-per-week</th>\n",
       "      <th>native-country</th>\n",
       "    </tr>\n",
       "  </thead>\n",
       "  <tbody>\n",
       "    <tr>\n",
       "      <th>0</th>\n",
       "      <td>18738</td>\n",
       "      <td>22</td>\n",
       "      <td>Private</td>\n",
       "      <td>110684</td>\n",
       "      <td>HS-grad</td>\n",
       "      <td>9</td>\n",
       "      <td>Never-married</td>\n",
       "      <td>Adm-clerical</td>\n",
       "      <td>Own-child</td>\n",
       "      <td>White</td>\n",
       "      <td>Male</td>\n",
       "      <td>0</td>\n",
       "      <td>0</td>\n",
       "      <td>20</td>\n",
       "      <td>United-States</td>\n",
       "    </tr>\n",
       "    <tr>\n",
       "      <th>1</th>\n",
       "      <td>14083</td>\n",
       "      <td>26</td>\n",
       "      <td>Local-gov</td>\n",
       "      <td>242464</td>\n",
       "      <td>HS-grad</td>\n",
       "      <td>9</td>\n",
       "      <td>Married-civ-spouse</td>\n",
       "      <td>Protective-serv</td>\n",
       "      <td>Husband</td>\n",
       "      <td>White</td>\n",
       "      <td>Male</td>\n",
       "      <td>3103</td>\n",
       "      <td>0</td>\n",
       "      <td>40</td>\n",
       "      <td>United-States</td>\n",
       "    </tr>\n",
       "    <tr>\n",
       "      <th>2</th>\n",
       "      <td>6172</td>\n",
       "      <td>47</td>\n",
       "      <td>Private</td>\n",
       "      <td>170850</td>\n",
       "      <td>HS-grad</td>\n",
       "      <td>9</td>\n",
       "      <td>Married-civ-spouse</td>\n",
       "      <td>Handlers-cleaners</td>\n",
       "      <td>Husband</td>\n",
       "      <td>White</td>\n",
       "      <td>Male</td>\n",
       "      <td>4064</td>\n",
       "      <td>0</td>\n",
       "      <td>60</td>\n",
       "      <td>United-States</td>\n",
       "    </tr>\n",
       "    <tr>\n",
       "      <th>3</th>\n",
       "      <td>2821</td>\n",
       "      <td>32</td>\n",
       "      <td>Federal-gov</td>\n",
       "      <td>454508</td>\n",
       "      <td>Bachelors</td>\n",
       "      <td>13</td>\n",
       "      <td>Married-civ-spouse</td>\n",
       "      <td>Exec-managerial</td>\n",
       "      <td>Husband</td>\n",
       "      <td>White</td>\n",
       "      <td>Male</td>\n",
       "      <td>0</td>\n",
       "      <td>0</td>\n",
       "      <td>40</td>\n",
       "      <td>United-States</td>\n",
       "    </tr>\n",
       "    <tr>\n",
       "      <th>4</th>\n",
       "      <td>11725</td>\n",
       "      <td>37</td>\n",
       "      <td>Federal-gov</td>\n",
       "      <td>194630</td>\n",
       "      <td>Masters</td>\n",
       "      <td>14</td>\n",
       "      <td>Never-married</td>\n",
       "      <td>Exec-managerial</td>\n",
       "      <td>Own-child</td>\n",
       "      <td>White</td>\n",
       "      <td>Female</td>\n",
       "      <td>0</td>\n",
       "      <td>0</td>\n",
       "      <td>40</td>\n",
       "      <td>United-States</td>\n",
       "    </tr>\n",
       "  </tbody>\n",
       "</table>\n",
       "</div>"
      ],
      "text/plain": [
       "      id   age     workclass   fnlwgt   education   education-num  \\\n",
       "0  18738    22       Private   110684     HS-grad               9   \n",
       "1  14083    26     Local-gov   242464     HS-grad               9   \n",
       "2   6172    47       Private   170850     HS-grad               9   \n",
       "3   2821    32   Federal-gov   454508   Bachelors              13   \n",
       "4  11725    37   Federal-gov   194630     Masters              14   \n",
       "\n",
       "        marital-status          occupation  relationship    race      sex  \\\n",
       "0        Never-married        Adm-clerical     Own-child   White     Male   \n",
       "1   Married-civ-spouse     Protective-serv       Husband   White     Male   \n",
       "2   Married-civ-spouse   Handlers-cleaners       Husband   White     Male   \n",
       "3   Married-civ-spouse     Exec-managerial       Husband   White     Male   \n",
       "4        Never-married     Exec-managerial     Own-child   White   Female   \n",
       "\n",
       "    capital-gain   capital-loss   hours-per-week  native-country  \n",
       "0              0              0               20   United-States  \n",
       "1           3103              0               40   United-States  \n",
       "2           4064              0               60   United-States  \n",
       "3              0              0               40   United-States  \n",
       "4              0              0               40   United-States  "
      ]
     },
     "execution_count": 9,
     "metadata": {},
     "output_type": "execute_result"
    }
   ],
   "source": [
    "df_t = pd.read_csv('test.csv')\n",
    "df_t.head(5)"
   ]
  },
  {
   "cell_type": "code",
   "execution_count": 10,
   "metadata": {},
   "outputs": [],
   "source": [
    "df_t, c_col_t = transform_df(df_t)"
   ]
  },
  {
   "cell_type": "code",
   "execution_count": 11,
   "metadata": {},
   "outputs": [],
   "source": [
    "df_t.drop(labels=c_col_t, axis = 1, inplace = True)\n",
    "\n",
    "X_t = df_t.drop(['id'], axis = 1).values\n",
    "\n",
    "prd_t = md.predict(X_t)"
   ]
  },
  {
   "cell_type": "code",
   "execution_count": 12,
   "metadata": {},
   "outputs": [
    {
     "data": {
      "text/plain": [
       "Counter({0: 6418, 1: 351})"
      ]
     },
     "execution_count": 12,
     "metadata": {},
     "output_type": "execute_result"
    }
   ],
   "source": [
    "collections.Counter(prd_t)"
   ]
  },
  {
   "cell_type": "code",
   "execution_count": 13,
   "metadata": {},
   "outputs": [],
   "source": [
    "df_t['target'] = prd_t.tolist()\n",
    "df_t['Index'] = df_t['id']\n",
    "df_t[['Index','target']].to_csv(\"pkd.csv\", header=['Index','target'], index=False)"
   ]
  },
  {
   "cell_type": "code",
   "execution_count": null,
   "metadata": {},
   "outputs": [],
   "source": []
  }
 ],
 "metadata": {
  "kernelspec": {
   "display_name": "Python 3",
   "language": "python",
   "name": "python3"
  },
  "language_info": {
   "codemirror_mode": {
    "name": "ipython",
    "version": 3
   },
   "file_extension": ".py",
   "mimetype": "text/x-python",
   "name": "python",
   "nbconvert_exporter": "python",
   "pygments_lexer": "ipython3",
   "version": "3.7.0"
  }
 },
 "nbformat": 4,
 "nbformat_minor": 2
}
