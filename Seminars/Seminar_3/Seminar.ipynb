{
 "cells": [
  {
   "cell_type": "code",
   "execution_count": 1,
   "metadata": {},
   "outputs": [],
   "source": [
    "import numpy as np\n",
    "import pandas as pd\n",
    "import matplotlib.pyplot as plt"
   ]
  },
  {
   "cell_type": "markdown",
   "metadata": {},
   "source": [
    "### 1. Считаем данные"
   ]
  },
  {
   "cell_type": "code",
   "execution_count": 8,
   "metadata": {},
   "outputs": [],
   "source": [
    "data_train = pd.read_csv(\"./Data/x_train.csv\", delimiter=';', header=None)\n",
    "target_train = pd.read_csv(\"./Data/y_train.csv\", delimiter=';', header=None)"
   ]
  },
  {
   "cell_type": "code",
   "execution_count": 9,
   "metadata": {},
   "outputs": [
    {
     "data": {
      "text/html": [
       "<div>\n",
       "<style scoped>\n",
       "    .dataframe tbody tr th:only-of-type {\n",
       "        vertical-align: middle;\n",
       "    }\n",
       "\n",
       "    .dataframe tbody tr th {\n",
       "        vertical-align: top;\n",
       "    }\n",
       "\n",
       "    .dataframe thead th {\n",
       "        text-align: right;\n",
       "    }\n",
       "</style>\n",
       "<table border=\"1\" class=\"dataframe\">\n",
       "  <thead>\n",
       "    <tr style=\"text-align: right;\">\n",
       "      <th></th>\n",
       "      <th>0</th>\n",
       "      <th>1</th>\n",
       "      <th>2</th>\n",
       "      <th>3</th>\n",
       "      <th>4</th>\n",
       "      <th>5</th>\n",
       "      <th>6</th>\n",
       "      <th>7</th>\n",
       "      <th>8</th>\n",
       "      <th>9</th>\n",
       "      <th>...</th>\n",
       "      <th>64</th>\n",
       "      <th>65</th>\n",
       "      <th>66</th>\n",
       "      <th>67</th>\n",
       "      <th>68</th>\n",
       "      <th>69</th>\n",
       "      <th>70</th>\n",
       "      <th>71</th>\n",
       "      <th>72</th>\n",
       "      <th>73</th>\n",
       "    </tr>\n",
       "  </thead>\n",
       "  <tbody>\n",
       "    <tr>\n",
       "      <th>0</th>\n",
       "      <td>0.320294</td>\n",
       "      <td>0.789564</td>\n",
       "      <td>0.305234</td>\n",
       "      <td>0.569579</td>\n",
       "      <td>0.916917</td>\n",
       "      <td>0.710729</td>\n",
       "      <td>0.502887</td>\n",
       "      <td>0.123825</td>\n",
       "      <td>1.549114</td>\n",
       "      <td>1.012985</td>\n",
       "      <td>...</td>\n",
       "      <td>3.905776</td>\n",
       "      <td>0.050249</td>\n",
       "      <td>1.652129</td>\n",
       "      <td>0.348495</td>\n",
       "      <td>1.268308</td>\n",
       "      <td>1.692855</td>\n",
       "      <td>10.972974</td>\n",
       "      <td>-34.651392</td>\n",
       "      <td>5.635283</td>\n",
       "      <td>-0.965972</td>\n",
       "    </tr>\n",
       "    <tr>\n",
       "      <th>1</th>\n",
       "      <td>-1.047974</td>\n",
       "      <td>0.098152</td>\n",
       "      <td>4.709796</td>\n",
       "      <td>0.063126</td>\n",
       "      <td>0.432243</td>\n",
       "      <td>0.638654</td>\n",
       "      <td>0.694468</td>\n",
       "      <td>0.791365</td>\n",
       "      <td>2.992625</td>\n",
       "      <td>-1.166921</td>\n",
       "      <td>...</td>\n",
       "      <td>4.822711</td>\n",
       "      <td>0.355136</td>\n",
       "      <td>3.810700</td>\n",
       "      <td>3.247255</td>\n",
       "      <td>-1.554161</td>\n",
       "      <td>2.506891</td>\n",
       "      <td>17.714096</td>\n",
       "      <td>12.537078</td>\n",
       "      <td>0.709831</td>\n",
       "      <td>0.337938</td>\n",
       "    </tr>\n",
       "    <tr>\n",
       "      <th>2</th>\n",
       "      <td>-0.488228</td>\n",
       "      <td>0.209715</td>\n",
       "      <td>1.328547</td>\n",
       "      <td>0.577500</td>\n",
       "      <td>0.454313</td>\n",
       "      <td>0.932798</td>\n",
       "      <td>0.470434</td>\n",
       "      <td>0.579927</td>\n",
       "      <td>4.157941</td>\n",
       "      <td>-0.076968</td>\n",
       "      <td>...</td>\n",
       "      <td>4.699418</td>\n",
       "      <td>0.136547</td>\n",
       "      <td>2.722004</td>\n",
       "      <td>0.794660</td>\n",
       "      <td>0.529090</td>\n",
       "      <td>5.016028</td>\n",
       "      <td>23.457600</td>\n",
       "      <td>39.258455</td>\n",
       "      <td>5.358375</td>\n",
       "      <td>1.034913</td>\n",
       "    </tr>\n",
       "    <tr>\n",
       "      <th>3</th>\n",
       "      <td>1.191010</td>\n",
       "      <td>1.005726</td>\n",
       "      <td>0.644007</td>\n",
       "      <td>0.021036</td>\n",
       "      <td>0.737313</td>\n",
       "      <td>0.225796</td>\n",
       "      <td>0.648582</td>\n",
       "      <td>0.334123</td>\n",
       "      <td>2.632267</td>\n",
       "      <td>-0.160811</td>\n",
       "      <td>...</td>\n",
       "      <td>4.860352</td>\n",
       "      <td>0.262532</td>\n",
       "      <td>1.703520</td>\n",
       "      <td>0.671193</td>\n",
       "      <td>-0.411733</td>\n",
       "      <td>2.358890</td>\n",
       "      <td>2.645531</td>\n",
       "      <td>16.002217</td>\n",
       "      <td>2.486295</td>\n",
       "      <td>0.434648</td>\n",
       "    </tr>\n",
       "    <tr>\n",
       "      <th>4</th>\n",
       "      <td>2.186114</td>\n",
       "      <td>1.327732</td>\n",
       "      <td>9.758608</td>\n",
       "      <td>-0.188493</td>\n",
       "      <td>0.036524</td>\n",
       "      <td>0.431486</td>\n",
       "      <td>0.494194</td>\n",
       "      <td>0.501352</td>\n",
       "      <td>3.486749</td>\n",
       "      <td>-0.580023</td>\n",
       "      <td>...</td>\n",
       "      <td>2.856243</td>\n",
       "      <td>0.701544</td>\n",
       "      <td>5.154188</td>\n",
       "      <td>19.887777</td>\n",
       "      <td>0.596292</td>\n",
       "      <td>10.548786</td>\n",
       "      <td>-2.565012</td>\n",
       "      <td>33.901742</td>\n",
       "      <td>4.573770</td>\n",
       "      <td>0.901521</td>\n",
       "    </tr>\n",
       "  </tbody>\n",
       "</table>\n",
       "<p>5 rows × 74 columns</p>\n",
       "</div>"
      ],
      "text/plain": [
       "         0         1         2         3         4         5         6   \\\n",
       "0  0.320294  0.789564  0.305234  0.569579  0.916917  0.710729  0.502887   \n",
       "1 -1.047974  0.098152  4.709796  0.063126  0.432243  0.638654  0.694468   \n",
       "2 -0.488228  0.209715  1.328547  0.577500  0.454313  0.932798  0.470434   \n",
       "3  1.191010  1.005726  0.644007  0.021036  0.737313  0.225796  0.648582   \n",
       "4  2.186114  1.327732  9.758608 -0.188493  0.036524  0.431486  0.494194   \n",
       "\n",
       "         7         8         9     ...           64        65        66  \\\n",
       "0  0.123825  1.549114  1.012985    ...     3.905776  0.050249  1.652129   \n",
       "1  0.791365  2.992625 -1.166921    ...     4.822711  0.355136  3.810700   \n",
       "2  0.579927  4.157941 -0.076968    ...     4.699418  0.136547  2.722004   \n",
       "3  0.334123  2.632267 -0.160811    ...     4.860352  0.262532  1.703520   \n",
       "4  0.501352  3.486749 -0.580023    ...     2.856243  0.701544  5.154188   \n",
       "\n",
       "          67        68         69         70         71        72        73  \n",
       "0   0.348495  1.268308   1.692855  10.972974 -34.651392  5.635283 -0.965972  \n",
       "1   3.247255 -1.554161   2.506891  17.714096  12.537078  0.709831  0.337938  \n",
       "2   0.794660  0.529090   5.016028  23.457600  39.258455  5.358375  1.034913  \n",
       "3   0.671193 -0.411733   2.358890   2.645531  16.002217  2.486295  0.434648  \n",
       "4  19.887777  0.596292  10.548786  -2.565012  33.901742  4.573770  0.901521  \n",
       "\n",
       "[5 rows x 74 columns]"
      ]
     },
     "execution_count": 9,
     "metadata": {},
     "output_type": "execute_result"
    }
   ],
   "source": [
    "data_train.head()"
   ]
  },
  {
   "cell_type": "code",
   "execution_count": 17,
   "metadata": {},
   "outputs": [
    {
     "data": {
      "text/plain": [
       "(array([0, 1, 2, 3, 4]), array([ 111, 1171, 1502,  594,  111]))"
      ]
     },
     "execution_count": 17,
     "metadata": {},
     "output_type": "execute_result"
    }
   ],
   "source": [
    "np.unique(target_train, return_counts=True)"
   ]
  },
  {
   "cell_type": "code",
   "execution_count": 22,
   "metadata": {},
   "outputs": [],
   "source": [
    "y = np.array(target_train)"
   ]
  },
  {
   "cell_type": "markdown",
   "metadata": {},
   "source": [
    "### 2. Посмотрим на RF на сырых данных"
   ]
  },
  {
   "cell_type": "code",
   "execution_count": 19,
   "metadata": {},
   "outputs": [
    {
     "name": "stderr",
     "output_type": "stream",
     "text": [
      "/anaconda3/lib/python3.6/site-packages/sklearn/ensemble/weight_boosting.py:29: DeprecationWarning: numpy.core.umath_tests is an internal NumPy module and should not be imported. It will be removed in a future NumPy release.\n",
      "  from numpy.core.umath_tests import inner1d\n"
     ]
    }
   ],
   "source": [
    "from sklearn.ensemble import RandomForestClassifier\n",
    "from sklearn.model_selection import cross_val_score"
   ]
  },
  {
   "cell_type": "code",
   "execution_count": 26,
   "metadata": {},
   "outputs": [],
   "source": [
    "def get_accuracies(X, Y):\n",
    "    rf_clf = RandomForestClassifier(n_estimators=100)\n",
    "    print(\"Accuracy: {0}\".format(cross_val_score(rf_clf, X, Y, scoring='accuracy', cv=5, n_jobs=-1)))"
   ]
  },
  {
   "cell_type": "code",
   "execution_count": 27,
   "metadata": {},
   "outputs": [
    {
     "name": "stderr",
     "output_type": "stream",
     "text": [
      "/anaconda3/lib/python3.6/site-packages/sklearn/model_selection/_validation.py:458: DataConversionWarning: A column-vector y was passed when a 1d array was expected. Please change the shape of y to (n_samples,), for example using ravel().\n",
      "  estimator.fit(X_train, y_train, **fit_params)\n",
      "/anaconda3/lib/python3.6/site-packages/sklearn/model_selection/_validation.py:458: DataConversionWarning: A column-vector y was passed when a 1d array was expected. Please change the shape of y to (n_samples,), for example using ravel().\n",
      "  estimator.fit(X_train, y_train, **fit_params)\n",
      "/anaconda3/lib/python3.6/site-packages/sklearn/model_selection/_validation.py:458: DataConversionWarning: A column-vector y was passed when a 1d array was expected. Please change the shape of y to (n_samples,), for example using ravel().\n",
      "  estimator.fit(X_train, y_train, **fit_params)\n",
      "/anaconda3/lib/python3.6/site-packages/sklearn/model_selection/_validation.py:458: DataConversionWarning: A column-vector y was passed when a 1d array was expected. Please change the shape of y to (n_samples,), for example using ravel().\n",
      "  estimator.fit(X_train, y_train, **fit_params)\n",
      "/anaconda3/lib/python3.6/site-packages/sklearn/model_selection/_validation.py:458: DataConversionWarning: A column-vector y was passed when a 1d array was expected. Please change the shape of y to (n_samples,), for example using ravel().\n",
      "  estimator.fit(X_train, y_train, **fit_params)\n"
     ]
    },
    {
     "name": "stdout",
     "output_type": "stream",
     "text": [
      "Accuracy: [0.55777461 0.57163324 0.55236729 0.54232425 0.54454023]\n"
     ]
    }
   ],
   "source": [
    "get_accuracies(data_train, y)"
   ]
  },
  {
   "cell_type": "markdown",
   "metadata": {},
   "source": [
    "### 3. Feature processing"
   ]
  },
  {
   "cell_type": "code",
   "execution_count": 32,
   "metadata": {},
   "outputs": [],
   "source": [
    "from sklearn.feature_selection import SelectKBest\n",
    "from sklearn.feature_selection import chi2"
   ]
  },
  {
   "cell_type": "code",
   "execution_count": 33,
   "metadata": {},
   "outputs": [],
   "source": [
    "X = data_train.copy()"
   ]
  },
  {
   "cell_type": "code",
   "execution_count": 44,
   "metadata": {},
   "outputs": [],
   "source": [
    "def plot_importance(clf, X):\n",
    "    importances = clf.feature_importances_\n",
    "    std = np.std([tree.feature_importances_ for tree in clf.estimators_], axis=0)\n",
    "    indices = np.argsort(importances)[::-1]\n",
    "\n",
    "    plt.figure(figsize=(20, 8))\n",
    "    plt.title(\"Feature importances\")\n",
    "    plt.bar(range(X.shape[1]), importances[indices],\n",
    "           color=\"r\", yerr=std[indices], align=\"center\")\n",
    "    plt.xticks(range(X.shape[1]), X.columns[indices])\n",
    "    plt.xlim([-1, X.shape[1]])\n",
    "    plt.show()"
   ]
  },
  {
   "cell_type": "code",
   "execution_count": 45,
   "metadata": {},
   "outputs": [
    {
     "name": "stderr",
     "output_type": "stream",
     "text": [
      "/anaconda3/lib/python3.6/site-packages/ipykernel_launcher.py:1: DataConversionWarning: A column-vector y was passed when a 1d array was expected. Please change the shape of y to (n_samples,), for example using ravel().\n",
      "  \"\"\"Entry point for launching an IPython kernel.\n"
     ]
    },
    {
     "data": {
      "image/png": "[encoded data removed]",
      "text/plain": [
       "<matplotlib.figure.Figure at 0x12125dd68>"
      ]
     },
     "metadata": {},
     "output_type": "display_data"
    }
   ],
   "source": [
    "rf_clf = RandomForestClassifier(n_estimators=100).fit(X, y)\n",
    "plot_importance(rf_clf, X)"
   ]
  },
  {
   "cell_type": "code",
   "execution_count": 42,
   "metadata": {},
   "outputs": [],
   "source": [
    "from sklearn.feature_selection import SelectFromModel"
   ]
  },
  {
   "cell_type": "code",
   "execution_count": 43,
   "metadata": {},
   "outputs": [
    {
     "data": {
      "text/plain": [
       "(3489, 16)"
      ]
     },
     "execution_count": 43,
     "metadata": {},
     "output_type": "execute_result"
    }
   ],
   "source": [
    "model = SelectFromModel(rf_clf, prefit=True)\n",
    "X_sfm = model.transform(X)\n",
    "X_sfm.shape"
   ]
  },
  {
   "cell_type": "code",
   "execution_count": 48,
   "metadata": {},
   "outputs": [
    {
     "name": "stderr",
     "output_type": "stream",
     "text": [
      "/anaconda3/lib/python3.6/site-packages/ipykernel_launcher.py:1: DataConversionWarning: A column-vector y was passed when a 1d array was expected. Please change the shape of y to (n_samples,), for example using ravel().\n",
      "  \"\"\"Entry point for launching an IPython kernel.\n",
      "/anaconda3/lib/python3.6/site-packages/sklearn/model_selection/_validation.py:458: DataConversionWarning: A column-vector y was passed when a 1d array was expected. Please change the shape of y to (n_samples,), for example using ravel().\n",
      "  estimator.fit(X_train, y_train, **fit_params)\n",
      "/anaconda3/lib/python3.6/site-packages/sklearn/model_selection/_validation.py:458: DataConversionWarning: A column-vector y was passed when a 1d array was expected. Please change the shape of y to (n_samples,), for example using ravel().\n",
      "  estimator.fit(X_train, y_train, **fit_params)\n",
      "/anaconda3/lib/python3.6/site-packages/sklearn/model_selection/_validation.py:458: DataConversionWarning: A column-vector y was passed when a 1d array was expected. Please change the shape of y to (n_samples,), for example using ravel().\n",
      "  estimator.fit(X_train, y_train, **fit_params)\n",
      "/anaconda3/lib/python3.6/site-packages/sklearn/model_selection/_validation.py:458: DataConversionWarning: A column-vector y was passed when a 1d array was expected. Please change the shape of y to (n_samples,), for example using ravel().\n",
      "  estimator.fit(X_train, y_train, **fit_params)\n",
      "/anaconda3/lib/python3.6/site-packages/sklearn/model_selection/_validation.py:458: DataConversionWarning: A column-vector y was passed when a 1d array was expected. Please change the shape of y to (n_samples,), for example using ravel().\n",
      "  estimator.fit(X_train, y_train, **fit_params)\n"
     ]
    },
    {
     "name": "stdout",
     "output_type": "stream",
     "text": [
      "Accuracy: [0.55064194 0.59885387 0.56527977 0.54806313 0.57327586]\n"
     ]
    }
   ],
   "source": [
    "get_accuracies(X_sfm, y)"
   ]
  },
  {
   "cell_type": "code",
   "execution_count": 35,
   "metadata": {},
   "outputs": [
    {
     "name": "stderr",
     "output_type": "stream",
     "text": [
      "/anaconda3/lib/python3.6/site-packages/sklearn/utils/validation.py:578: DataConversionWarning: A column-vector y was passed when a 1d array was expected. Please change the shape of y to (n_samples, ), for example using ravel().\n",
      "  y = column_or_1d(y, warn=True)\n"
     ]
    },
    {
     "name": "stdout",
     "output_type": "stream",
     "text": [
      "Optimal number of features : 39\n"
     ]
    },
    {
     "data": {
      "image/png": "[encoded data removed]",
      "text/plain": [
       "<matplotlib.figure.Figure at 0x11ea783c8>"
      ]
     },
     "metadata": {},
     "output_type": "display_data"
    }
   ],
   "source": [
    "from sklearn.model_selection import StratifiedKFold\n",
    "from sklearn.feature_selection import RFECV\n",
    "from sklearn.datasets import make_classification\n",
    "\n",
    "# Create the RFE object and compute a cross-validated score.\n",
    "rf_clf = RandomForestClassifier(n_estimators=100)\n",
    "# The \"accuracy\" scoring is proportional to the number of correct\n",
    "# classifications\n",
    "rfecv = RFECV(estimator=rf_clf, step=1, cv=StratifiedKFold(2),\n",
    "              scoring='accuracy')\n",
    "rfecv.fit(X, y)\n",
    "\n",
    "print(\"Optimal number of features : %d\" % rfecv.n_features_)\n",
    "\n",
    "# Plot number of features VS. cross-validation scores\n",
    "plt.figure()\n",
    "plt.xlabel(\"Number of features selected\")\n",
    "plt.ylabel(\"Cross validation score (nb of correct classifications)\")\n",
    "plt.plot(range(1, len(rfecv.grid_scores_) + 1), rfecv.grid_scores_)\n",
    "plt.show()"
   ]
  },
  {
   "cell_type": "code",
   "execution_count": 36,
   "metadata": {},
   "outputs": [],
   "source": [
    "X_rfecv = rfecv.transform(X)"
   ]
  },
  {
   "cell_type": "code",
   "execution_count": 37,
   "metadata": {},
   "outputs": [
    {
     "name": "stderr",
     "output_type": "stream",
     "text": [
      "/anaconda3/lib/python3.6/site-packages/sklearn/model_selection/_validation.py:458: DataConversionWarning: A column-vector y was passed when a 1d array was expected. Please change the shape of y to (n_samples,), for example using ravel().\n",
      "  estimator.fit(X_train, y_train, **fit_params)\n",
      "/anaconda3/lib/python3.6/site-packages/sklearn/model_selection/_validation.py:458: DataConversionWarning: A column-vector y was passed when a 1d array was expected. Please change the shape of y to (n_samples,), for example using ravel().\n",
      "  estimator.fit(X_train, y_train, **fit_params)\n",
      "/anaconda3/lib/python3.6/site-packages/sklearn/model_selection/_validation.py:458: DataConversionWarning: A column-vector y was passed when a 1d array was expected. Please change the shape of y to (n_samples,), for example using ravel().\n",
      "  estimator.fit(X_train, y_train, **fit_params)\n",
      "/anaconda3/lib/python3.6/site-packages/sklearn/model_selection/_validation.py:458: DataConversionWarning: A column-vector y was passed when a 1d array was expected. Please change the shape of y to (n_samples,), for example using ravel().\n",
      "  estimator.fit(X_train, y_train, **fit_params)\n",
      "/anaconda3/lib/python3.6/site-packages/sklearn/model_selection/_validation.py:458: DataConversionWarning: A column-vector y was passed when a 1d array was expected. Please change the shape of y to (n_samples,), for example using ravel().\n",
      "  estimator.fit(X_train, y_train, **fit_params)\n"
     ]
    },
    {
     "name": "stdout",
     "output_type": "stream",
     "text": [
      "Accuracy: [0.56633381 0.59312321 0.57388809 0.53945481 0.57183908]\n"
     ]
    }
   ],
   "source": [
    "get_accuracies(X_rfecv, y)"
   ]
  },
  {
   "cell_type": "code",
   "execution_count": null,
   "metadata": {},
   "outputs": [],
   "source": []
  }
 ],
 "metadata": {
  "kernelspec": {
   "display_name": "Python 3",
   "language": "python",
   "name": "python3"
  },
  "language_info": {
   "codemirror_mode": {
    "name": "ipython",
    "version": 3
   },
   "file_extension": ".py",
   "mimetype": "text/x-python",
   "name": "python",
   "nbconvert_exporter": "python",
   "pygments_lexer": "ipython3",
   "version": "3.6.4"
  }
 },
 "nbformat": 4,
 "nbformat_minor": 2
}
