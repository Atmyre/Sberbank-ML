{
 "cells": [
  {
   "cell_type": "markdown",
   "metadata": {},
   "source": [
    "Привет!\n",
    "\n",
    "Это ноутбук-бейзлайн к конкурсу на каггл: https://www.kaggle.com/t/de1dfe58de894e5f915bbf6749ae2f84\n",
    "\n",
    "Вам нужно постараться улучшить его, чтобы скор на каггле стал побольше =)\n",
    "Тренировочные и тестовые данные лежат рядом с ноутбуком или их можно скачать с каггла."
   ]
  },
  {
   "cell_type": "code",
   "execution_count": 157,
   "metadata": {},
   "outputs": [],
   "source": [
    "import numpy as np\n",
    "import pandas as pd"
   ]
  },
  {
   "cell_type": "markdown",
   "metadata": {},
   "source": [
    "## 1. Get data"
   ]
  },
  {
   "cell_type": "markdown",
   "metadata": {},
   "source": [
    "Загрузим данные и посмотрим на них:"
   ]
  },
  {
   "cell_type": "code",
   "execution_count": 158,
   "metadata": {},
   "outputs": [
    {
     "data": {
      "text/html": [
       "<div>\n",
       "<style scoped>\n",
       "    .dataframe tbody tr th:only-of-type {\n",
       "        vertical-align: middle;\n",
       "    }\n",
       "\n",
       "    .dataframe tbody tr th {\n",
       "        vertical-align: top;\n",
       "    }\n",
       "\n",
       "    .dataframe thead th {\n",
       "        text-align: right;\n",
       "    }\n",
       "</style>\n",
       "<table border=\"1\" class=\"dataframe\">\n",
       "  <thead>\n",
       "    <tr style=\"text-align: right;\">\n",
       "      <th></th>\n",
       "      <th>client_id</th>\n",
       "      <th>gender</th>\n",
       "      <th>age</th>\n",
       "      <th>marital_status</th>\n",
       "      <th>job_position</th>\n",
       "      <th>credit_sum</th>\n",
       "      <th>credit_month</th>\n",
       "      <th>tariff_id</th>\n",
       "      <th>score_shk</th>\n",
       "      <th>education</th>\n",
       "      <th>living_region</th>\n",
       "      <th>monthly_income</th>\n",
       "      <th>credit_count</th>\n",
       "      <th>overdue_credit_count</th>\n",
       "      <th>open_account_flg</th>\n",
       "    </tr>\n",
       "  </thead>\n",
       "  <tbody>\n",
       "    <tr>\n",
       "      <th>0</th>\n",
       "      <td>1</td>\n",
       "      <td>M</td>\n",
       "      <td>25</td>\n",
       "      <td>UNM</td>\n",
       "      <td>SPC</td>\n",
       "      <td>26389.0</td>\n",
       "      <td>10</td>\n",
       "      <td>1.32</td>\n",
       "      <td>0.584105</td>\n",
       "      <td>SCH</td>\n",
       "      <td>ОБЛ КУРСКАЯ</td>\n",
       "      <td>35000.0</td>\n",
       "      <td>2.0</td>\n",
       "      <td>0.0</td>\n",
       "      <td>1</td>\n",
       "    </tr>\n",
       "    <tr>\n",
       "      <th>1</th>\n",
       "      <td>2</td>\n",
       "      <td>F</td>\n",
       "      <td>37</td>\n",
       "      <td>MAR</td>\n",
       "      <td>SPC</td>\n",
       "      <td>19588.0</td>\n",
       "      <td>12</td>\n",
       "      <td>1.43</td>\n",
       "      <td>0.718935</td>\n",
       "      <td>SCH</td>\n",
       "      <td>РЕСПУБЛИКА ТАТАРСТАН</td>\n",
       "      <td>15000.0</td>\n",
       "      <td>0.0</td>\n",
       "      <td>0.0</td>\n",
       "      <td>1</td>\n",
       "    </tr>\n",
       "    <tr>\n",
       "      <th>2</th>\n",
       "      <td>3</td>\n",
       "      <td>F</td>\n",
       "      <td>28</td>\n",
       "      <td>UNM</td>\n",
       "      <td>SPC</td>\n",
       "      <td>53669.0</td>\n",
       "      <td>18</td>\n",
       "      <td>1.10</td>\n",
       "      <td>0.586015</td>\n",
       "      <td>GRD</td>\n",
       "      <td>МОСКВА Г</td>\n",
       "      <td>70000.0</td>\n",
       "      <td>4.0</td>\n",
       "      <td>0.0</td>\n",
       "      <td>1</td>\n",
       "    </tr>\n",
       "    <tr>\n",
       "      <th>3</th>\n",
       "      <td>4</td>\n",
       "      <td>M</td>\n",
       "      <td>34</td>\n",
       "      <td>MAR</td>\n",
       "      <td>SPC</td>\n",
       "      <td>26349.0</td>\n",
       "      <td>10</td>\n",
       "      <td>1.43</td>\n",
       "      <td>0.655703</td>\n",
       "      <td>SCH</td>\n",
       "      <td>СВЕРДЛОВСКАЯ ОБЛАСТЬ</td>\n",
       "      <td>42500.0</td>\n",
       "      <td>4.0</td>\n",
       "      <td>0.0</td>\n",
       "      <td>0</td>\n",
       "    </tr>\n",
       "    <tr>\n",
       "      <th>4</th>\n",
       "      <td>5</td>\n",
       "      <td>F</td>\n",
       "      <td>43</td>\n",
       "      <td>MAR</td>\n",
       "      <td>UMN</td>\n",
       "      <td>11589.0</td>\n",
       "      <td>10</td>\n",
       "      <td>1.10</td>\n",
       "      <td>0.271893</td>\n",
       "      <td>GRD</td>\n",
       "      <td>РЯЗАНСКАЯ ОБЛАСТЬ</td>\n",
       "      <td>20000.0</td>\n",
       "      <td>3.0</td>\n",
       "      <td>0.0</td>\n",
       "      <td>0</td>\n",
       "    </tr>\n",
       "  </tbody>\n",
       "</table>\n",
       "</div>"
      ],
      "text/plain": [
       "   client_id gender  age marital_status job_position  credit_sum  \\\n",
       "0          1      M   25            UNM          SPC     26389.0   \n",
       "1          2      F   37            MAR          SPC     19588.0   \n",
       "2          3      F   28            UNM          SPC     53669.0   \n",
       "3          4      M   34            MAR          SPC     26349.0   \n",
       "4          5      F   43            MAR          UMN     11589.0   \n",
       "\n",
       "   credit_month  tariff_id  score_shk education         living_region  \\\n",
       "0            10       1.32   0.584105       SCH           ОБЛ КУРСКАЯ   \n",
       "1            12       1.43   0.718935       SCH  РЕСПУБЛИКА ТАТАРСТАН   \n",
       "2            18       1.10   0.586015       GRD              МОСКВА Г   \n",
       "3            10       1.43   0.655703       SCH  СВЕРДЛОВСКАЯ ОБЛАСТЬ   \n",
       "4            10       1.10   0.271893       GRD     РЯЗАНСКАЯ ОБЛАСТЬ   \n",
       "\n",
       "   monthly_income  credit_count  overdue_credit_count  open_account_flg  \n",
       "0         35000.0           2.0                   0.0                 1  \n",
       "1         15000.0           0.0                   0.0                 1  \n",
       "2         70000.0           4.0                   0.0                 1  \n",
       "3         42500.0           4.0                   0.0                 0  \n",
       "4         20000.0           3.0                   0.0                 0  "
      ]
     },
     "execution_count": 158,
     "metadata": {},
     "output_type": "execute_result"
    }
   ],
   "source": [
    "train_data = pd.read_csv(\"train.csv\")\n",
    "train_data.head()"
   ]
  },
  {
   "cell_type": "code",
   "execution_count": 159,
   "metadata": {},
   "outputs": [],
   "source": [
    "X_train, y_train = train_data.drop(\"open_account_flg\", axis=1), train_data[\"open_account_flg\"]"
   ]
  },
  {
   "cell_type": "markdown",
   "metadata": {},
   "source": [
    "## 2. Preprocessing"
   ]
  },
  {
   "cell_type": "code",
   "execution_count": 160,
   "metadata": {},
   "outputs": [
    {
     "data": {
      "text/plain": [
       "client_id               False\n",
       "gender                  False\n",
       "age                     False\n",
       "marital_status          False\n",
       "job_position            False\n",
       "credit_sum              False\n",
       "credit_month            False\n",
       "tariff_id               False\n",
       "score_shk               False\n",
       "education               False\n",
       "living_region            True\n",
       "monthly_income          False\n",
       "credit_count             True\n",
       "overdue_credit_count     True\n",
       "open_account_flg        False\n",
       "dtype: bool"
      ]
     },
     "execution_count": 160,
     "metadata": {},
     "output_type": "execute_result"
    }
   ],
   "source": [
    "train_data.isna().any()"
   ]
  },
  {
   "cell_type": "markdown",
   "metadata": {},
   "source": [
    "#### fill nans in \"living region\""
   ]
  },
  {
   "cell_type": "code",
   "execution_count": 161,
   "metadata": {
    "scrolled": true
   },
   "outputs": [
    {
     "data": {
      "text/plain": [
       "ОБЛ МОСКОВСКАЯ                              8564\n",
       "КРАСНОДАРСКИЙ КРАЙ                          5176\n",
       "САНКТ-ПЕТЕРБУРГ                             3968\n",
       "МОСКВА                                      3821\n",
       "ТАТАРСТАН РЕСП                              3635\n",
       "РЕСП БАШКОРТОСТАН                           3358\n",
       "ОБЛ ИРКУТСКАЯ                               2863\n",
       "СВЕРДЛОВСКАЯ ОБЛ                            2782\n",
       "МОСКВА Г                                    2509\n",
       "ОБЛ НИЖЕГОРОДСКАЯ                           2504\n",
       "ОБЛ ЛЕНИНГРАДСКАЯ                           2235\n",
       "РОСТОВСКАЯ ОБЛ                              2111\n",
       "КРАСНОЯРСКИЙ КРАЙ                           2087\n",
       "ЧЕЛЯБИНСКАЯ ОБЛ                             2047\n",
       "ОБЛ САМАРСКАЯ                               2034\n",
       "ОБЛ КЕМЕРОВСКАЯ                             1993\n",
       "ПЕРМСКИЙ КРАЙ                               1930\n",
       "САНКТ-ПЕТЕРБУРГ Г                           1866\n",
       "КРАЙ СТАВРОПОЛЬСКИЙ                         1833\n",
       "ОБЛ АСТРАХАНСКАЯ                            1756\n",
       "ОБЛ ВОЛОГОДСКАЯ                             1756\n",
       "ОБЛ ВОЛГОГРАДСКАЯ                           1587\n",
       "ХАНТЫ-МАНСИЙСКИЙ АВТОНОМНЫЙ ОКРУГ - ЮГРА    1575\n",
       "РЕСПУБЛИКА ТАТАРСТАН                        1513\n",
       "ОБЛ НОВОСИБИРСКАЯ                           1496\n",
       "СВЕРДЛОВСКАЯ ОБЛАСТЬ                        1410\n",
       "СТАВРОПОЛЬСКИЙ КРАЙ                         1395\n",
       "ЯМАЛО-НЕНЕЦКИЙ АО                           1249\n",
       "ОБЛ АРХАНГЕЛЬСКАЯ                           1204\n",
       "ОБЛ ВОРОНЕЖСКАЯ                             1172\n",
       "                                            ... \n",
       "РЕСПУБЛИКАТАТАРСТАН                            1\n",
       "ХАКАСИЯ                                        1\n",
       "КОМИ                                           1\n",
       "ОБЛ.РОСТОВСКАЯ                                 1\n",
       "ГУСЬ-ХРУСТАЛЬНЫЙ Р-Н                           1\n",
       "РОССИЯ                                         1\n",
       "ИНГУШЕТИЯ РЕСП                                 1\n",
       "74                                             1\n",
       "ОМСКАЯ                                         1\n",
       "ПЕРМСКИЙ                                       1\n",
       "ТОМСКАЯ                                        1\n",
       "РЕСП. КОМИ                                     1\n",
       "ТЮМЕНСКАЯ                                      1\n",
       "КРАЙ. СТАВРОПОЛЬСКИЙ                           1\n",
       "КАЛМЫКИЯ                                       1\n",
       "ЧУВАШСКАЯ РЕСП                                 1\n",
       "БРЯНСКИЙ                                       1\n",
       "РЕСП.БАШКОРТОСТАН                              1\n",
       "РЕСП ЧУВАШСКАЯ - ЧУВАШИЯ                       1\n",
       "ОБЛ.САРАТОВСКАЯ                                1\n",
       "ОБЛ.НИЖЕГОРОДСКАЯ                              1\n",
       "НОВОСИБИРСКАЯ                                  1\n",
       "КАЛУЖСКАЯ                                      1\n",
       "98                                             1\n",
       "МЫТИЩИНСКИЙ Р-Н                                1\n",
       "КАМЧАТСКАЯ ОБЛАСТЬ                             1\n",
       "ОБЛ. КУРГАНСКАЯ                                1\n",
       "СВЕРДЛОВСКАЯ                                   1\n",
       "ОРЁЛ                                           1\n",
       "КРАЙ. КРАСНОЯРСКИЙ                             1\n",
       "Name: living_region, Length: 285, dtype: int64"
      ]
     },
     "execution_count": 161,
     "metadata": {},
     "output_type": "execute_result"
    }
   ],
   "source": [
    "X_train[\"living_region\"].value_counts()"
   ]
  },
  {
   "cell_type": "markdown",
   "metadata": {},
   "source": [
    "^ действительно, какой еще самый частый регион можно было ожидать. "
   ]
  },
  {
   "cell_type": "code",
   "execution_count": 162,
   "metadata": {},
   "outputs": [],
   "source": [
    "X_train[\"living_region\"].fillna(\"ОБЛ МОСКОВСКАЯ\", inplace=True)"
   ]
  },
  {
   "cell_type": "markdown",
   "metadata": {},
   "source": [
    "#### fill nans in \"credit_count\""
   ]
  },
  {
   "cell_type": "code",
   "execution_count": 163,
   "metadata": {},
   "outputs": [
    {
     "data": {
      "text/plain": [
       "1.0     31714\n",
       "2.0     25799\n",
       "0.0     18219\n",
       "3.0     16707\n",
       "4.0      9826\n",
       "5.0      5285\n",
       "6.0      2760\n",
       "7.0      1345\n",
       "8.0       707\n",
       "9.0       326\n",
       "10.0      141\n",
       "11.0       90\n",
       "12.0       56\n",
       "13.0       25\n",
       "14.0       12\n",
       "15.0       10\n",
       "17.0        4\n",
       "19.0        3\n",
       "16.0        2\n",
       "18.0        1\n",
       "Name: credit_count, dtype: int64"
      ]
     },
     "execution_count": 163,
     "metadata": {},
     "output_type": "execute_result"
    }
   ],
   "source": [
    "X_train[\"credit_count\"].value_counts()"
   ]
  },
  {
   "cell_type": "code",
   "execution_count": 164,
   "metadata": {},
   "outputs": [],
   "source": [
    "X_train[\"credit_count\"].fillna(1., inplace=True)"
   ]
  },
  {
   "cell_type": "markdown",
   "metadata": {},
   "source": [
    "#### fill nans in \"overdue_credit_count\""
   ]
  },
  {
   "cell_type": "code",
   "execution_count": 165,
   "metadata": {},
   "outputs": [
    {
     "data": {
      "text/plain": [
       "0.0    107812\n",
       "1.0      5180\n",
       "2.0        36\n",
       "3.0         4\n",
       "Name: overdue_credit_count, dtype: int64"
      ]
     },
     "execution_count": 165,
     "metadata": {},
     "output_type": "execute_result"
    }
   ],
   "source": [
    "X_train[\"overdue_credit_count\"].value_counts()"
   ]
  },
  {
   "cell_type": "code",
   "execution_count": 166,
   "metadata": {},
   "outputs": [],
   "source": [
    "X_train[\"overdue_credit_count\"].fillna(0., inplace=True)"
   ]
  },
  {
   "cell_type": "markdown",
   "metadata": {},
   "source": [
    "#### fill nans in \"monthly income\""
   ]
  },
  {
   "cell_type": "code",
   "execution_count": 167,
   "metadata": {},
   "outputs": [
    {
     "data": {
      "text/plain": [
       "35000.0"
      ]
     },
     "execution_count": 167,
     "metadata": {},
     "output_type": "execute_result"
    }
   ],
   "source": [
    "X_train[\"monthly_income\"].median()"
   ]
  },
  {
   "cell_type": "code",
   "execution_count": 168,
   "metadata": {},
   "outputs": [],
   "source": [
    "X_train[\"monthly_income\"].fillna(X_train[\"monthly_income\"].median(), inplace=True)"
   ]
  },
  {
   "cell_type": "markdown",
   "metadata": {},
   "source": [
    "### Dealing with categorical features"
   ]
  },
  {
   "cell_type": "markdown",
   "metadata": {},
   "source": [
    "#### In a baseline lets delete \"living_region\" feature as its categorical and has too many values)"
   ]
  },
  {
   "cell_type": "code",
   "execution_count": 169,
   "metadata": {},
   "outputs": [],
   "source": [
    "X_train.drop(\"living_region\", axis=1, inplace=True)"
   ]
  },
  {
   "cell_type": "code",
   "execution_count": 170,
   "metadata": {},
   "outputs": [
    {
     "data": {
      "text/plain": [
       "['gender', 'marital_status', 'job_position', 'education']"
      ]
     },
     "execution_count": 170,
     "metadata": {},
     "output_type": "execute_result"
    }
   ],
   "source": [
    "cat_features = [i[0] for i in dict(X_train.dtypes).items() if 'obj' in str(i[1])]\n",
    "cat_features"
   ]
  },
  {
   "cell_type": "markdown",
   "metadata": {},
   "source": [
    "#### Convert categirical features to numerical and binarize them"
   ]
  },
  {
   "cell_type": "code",
   "execution_count": 171,
   "metadata": {},
   "outputs": [
    {
     "data": {
      "text/html": [
       "<div>\n",
       "<style scoped>\n",
       "    .dataframe tbody tr th:only-of-type {\n",
       "        vertical-align: middle;\n",
       "    }\n",
       "\n",
       "    .dataframe tbody tr th {\n",
       "        vertical-align: top;\n",
       "    }\n",
       "\n",
       "    .dataframe thead th {\n",
       "        text-align: right;\n",
       "    }\n",
       "</style>\n",
       "<table border=\"1\" class=\"dataframe\">\n",
       "  <thead>\n",
       "    <tr style=\"text-align: right;\">\n",
       "      <th></th>\n",
       "      <th>client_id</th>\n",
       "      <th>gender</th>\n",
       "      <th>age</th>\n",
       "      <th>marital_status</th>\n",
       "      <th>job_position</th>\n",
       "      <th>credit_sum</th>\n",
       "      <th>credit_month</th>\n",
       "      <th>tariff_id</th>\n",
       "      <th>score_shk</th>\n",
       "      <th>education</th>\n",
       "      <th>monthly_income</th>\n",
       "      <th>credit_count</th>\n",
       "      <th>overdue_credit_count</th>\n",
       "    </tr>\n",
       "  </thead>\n",
       "  <tbody>\n",
       "    <tr>\n",
       "      <th>0</th>\n",
       "      <td>1</td>\n",
       "      <td>M</td>\n",
       "      <td>25</td>\n",
       "      <td>UNM</td>\n",
       "      <td>SPC</td>\n",
       "      <td>26389.0</td>\n",
       "      <td>10</td>\n",
       "      <td>1.32</td>\n",
       "      <td>0.584105</td>\n",
       "      <td>SCH</td>\n",
       "      <td>35000.0</td>\n",
       "      <td>2.0</td>\n",
       "      <td>0.0</td>\n",
       "    </tr>\n",
       "    <tr>\n",
       "      <th>1</th>\n",
       "      <td>2</td>\n",
       "      <td>F</td>\n",
       "      <td>37</td>\n",
       "      <td>MAR</td>\n",
       "      <td>SPC</td>\n",
       "      <td>19588.0</td>\n",
       "      <td>12</td>\n",
       "      <td>1.43</td>\n",
       "      <td>0.718935</td>\n",
       "      <td>SCH</td>\n",
       "      <td>15000.0</td>\n",
       "      <td>0.0</td>\n",
       "      <td>0.0</td>\n",
       "    </tr>\n",
       "    <tr>\n",
       "      <th>2</th>\n",
       "      <td>3</td>\n",
       "      <td>F</td>\n",
       "      <td>28</td>\n",
       "      <td>UNM</td>\n",
       "      <td>SPC</td>\n",
       "      <td>53669.0</td>\n",
       "      <td>18</td>\n",
       "      <td>1.10</td>\n",
       "      <td>0.586015</td>\n",
       "      <td>GRD</td>\n",
       "      <td>70000.0</td>\n",
       "      <td>4.0</td>\n",
       "      <td>0.0</td>\n",
       "    </tr>\n",
       "    <tr>\n",
       "      <th>3</th>\n",
       "      <td>4</td>\n",
       "      <td>M</td>\n",
       "      <td>34</td>\n",
       "      <td>MAR</td>\n",
       "      <td>SPC</td>\n",
       "      <td>26349.0</td>\n",
       "      <td>10</td>\n",
       "      <td>1.43</td>\n",
       "      <td>0.655703</td>\n",
       "      <td>SCH</td>\n",
       "      <td>42500.0</td>\n",
       "      <td>4.0</td>\n",
       "      <td>0.0</td>\n",
       "    </tr>\n",
       "    <tr>\n",
       "      <th>4</th>\n",
       "      <td>5</td>\n",
       "      <td>F</td>\n",
       "      <td>43</td>\n",
       "      <td>MAR</td>\n",
       "      <td>UMN</td>\n",
       "      <td>11589.0</td>\n",
       "      <td>10</td>\n",
       "      <td>1.10</td>\n",
       "      <td>0.271893</td>\n",
       "      <td>GRD</td>\n",
       "      <td>20000.0</td>\n",
       "      <td>3.0</td>\n",
       "      <td>0.0</td>\n",
       "    </tr>\n",
       "  </tbody>\n",
       "</table>\n",
       "</div>"
      ],
      "text/plain": [
       "   client_id gender  age marital_status job_position  credit_sum  \\\n",
       "0          1      M   25            UNM          SPC     26389.0   \n",
       "1          2      F   37            MAR          SPC     19588.0   \n",
       "2          3      F   28            UNM          SPC     53669.0   \n",
       "3          4      M   34            MAR          SPC     26349.0   \n",
       "4          5      F   43            MAR          UMN     11589.0   \n",
       "\n",
       "   credit_month  tariff_id  score_shk education  monthly_income  credit_count  \\\n",
       "0            10       1.32   0.584105       SCH         35000.0           2.0   \n",
       "1            12       1.43   0.718935       SCH         15000.0           0.0   \n",
       "2            18       1.10   0.586015       GRD         70000.0           4.0   \n",
       "3            10       1.43   0.655703       SCH         42500.0           4.0   \n",
       "4            10       1.10   0.271893       GRD         20000.0           3.0   \n",
       "\n",
       "   overdue_credit_count  \n",
       "0                   0.0  \n",
       "1                   0.0  \n",
       "2                   0.0  \n",
       "3                   0.0  \n",
       "4                   0.0  "
      ]
     },
     "execution_count": 171,
     "metadata": {},
     "output_type": "execute_result"
    }
   ],
   "source": [
    "X_train.head()"
   ]
  },
  {
   "cell_type": "code",
   "execution_count": 172,
   "metadata": {},
   "outputs": [],
   "source": [
    "# https://pandas.pydata.org/pandas-docs/stable/generated/pandas.get_dummies.html\n",
    "X_train = pd.get_dummies(X_train, columns=cat_features)"
   ]
  },
  {
   "cell_type": "code",
   "execution_count": 173,
   "metadata": {},
   "outputs": [
    {
     "data": {
      "text/html": [
       "<div>\n",
       "<style scoped>\n",
       "    .dataframe tbody tr th:only-of-type {\n",
       "        vertical-align: middle;\n",
       "    }\n",
       "\n",
       "    .dataframe tbody tr th {\n",
       "        vertical-align: top;\n",
       "    }\n",
       "\n",
       "    .dataframe thead th {\n",
       "        text-align: right;\n",
       "    }\n",
       "</style>\n",
       "<table border=\"1\" class=\"dataframe\">\n",
       "  <thead>\n",
       "    <tr style=\"text-align: right;\">\n",
       "      <th></th>\n",
       "      <th>client_id</th>\n",
       "      <th>age</th>\n",
       "      <th>credit_sum</th>\n",
       "      <th>credit_month</th>\n",
       "      <th>tariff_id</th>\n",
       "      <th>score_shk</th>\n",
       "      <th>monthly_income</th>\n",
       "      <th>credit_count</th>\n",
       "      <th>overdue_credit_count</th>\n",
       "      <th>gender_F</th>\n",
       "      <th>...</th>\n",
       "      <th>job_position_SPC</th>\n",
       "      <th>job_position_UMN</th>\n",
       "      <th>job_position_WOI</th>\n",
       "      <th>job_position_WRK</th>\n",
       "      <th>job_position_WRP</th>\n",
       "      <th>education_ACD</th>\n",
       "      <th>education_GRD</th>\n",
       "      <th>education_PGR</th>\n",
       "      <th>education_SCH</th>\n",
       "      <th>education_UGR</th>\n",
       "    </tr>\n",
       "  </thead>\n",
       "  <tbody>\n",
       "    <tr>\n",
       "      <th>0</th>\n",
       "      <td>1</td>\n",
       "      <td>25</td>\n",
       "      <td>26389.0</td>\n",
       "      <td>10</td>\n",
       "      <td>1.32</td>\n",
       "      <td>0.584105</td>\n",
       "      <td>35000.0</td>\n",
       "      <td>2.0</td>\n",
       "      <td>0.0</td>\n",
       "      <td>0</td>\n",
       "      <td>...</td>\n",
       "      <td>1</td>\n",
       "      <td>0</td>\n",
       "      <td>0</td>\n",
       "      <td>0</td>\n",
       "      <td>0</td>\n",
       "      <td>0</td>\n",
       "      <td>0</td>\n",
       "      <td>0</td>\n",
       "      <td>1</td>\n",
       "      <td>0</td>\n",
       "    </tr>\n",
       "    <tr>\n",
       "      <th>1</th>\n",
       "      <td>2</td>\n",
       "      <td>37</td>\n",
       "      <td>19588.0</td>\n",
       "      <td>12</td>\n",
       "      <td>1.43</td>\n",
       "      <td>0.718935</td>\n",
       "      <td>15000.0</td>\n",
       "      <td>0.0</td>\n",
       "      <td>0.0</td>\n",
       "      <td>1</td>\n",
       "      <td>...</td>\n",
       "      <td>1</td>\n",
       "      <td>0</td>\n",
       "      <td>0</td>\n",
       "      <td>0</td>\n",
       "      <td>0</td>\n",
       "      <td>0</td>\n",
       "      <td>0</td>\n",
       "      <td>0</td>\n",
       "      <td>1</td>\n",
       "      <td>0</td>\n",
       "    </tr>\n",
       "    <tr>\n",
       "      <th>2</th>\n",
       "      <td>3</td>\n",
       "      <td>28</td>\n",
       "      <td>53669.0</td>\n",
       "      <td>18</td>\n",
       "      <td>1.10</td>\n",
       "      <td>0.586015</td>\n",
       "      <td>70000.0</td>\n",
       "      <td>4.0</td>\n",
       "      <td>0.0</td>\n",
       "      <td>1</td>\n",
       "      <td>...</td>\n",
       "      <td>1</td>\n",
       "      <td>0</td>\n",
       "      <td>0</td>\n",
       "      <td>0</td>\n",
       "      <td>0</td>\n",
       "      <td>0</td>\n",
       "      <td>1</td>\n",
       "      <td>0</td>\n",
       "      <td>0</td>\n",
       "      <td>0</td>\n",
       "    </tr>\n",
       "    <tr>\n",
       "      <th>3</th>\n",
       "      <td>4</td>\n",
       "      <td>34</td>\n",
       "      <td>26349.0</td>\n",
       "      <td>10</td>\n",
       "      <td>1.43</td>\n",
       "      <td>0.655703</td>\n",
       "      <td>42500.0</td>\n",
       "      <td>4.0</td>\n",
       "      <td>0.0</td>\n",
       "      <td>0</td>\n",
       "      <td>...</td>\n",
       "      <td>1</td>\n",
       "      <td>0</td>\n",
       "      <td>0</td>\n",
       "      <td>0</td>\n",
       "      <td>0</td>\n",
       "      <td>0</td>\n",
       "      <td>0</td>\n",
       "      <td>0</td>\n",
       "      <td>1</td>\n",
       "      <td>0</td>\n",
       "    </tr>\n",
       "    <tr>\n",
       "      <th>4</th>\n",
       "      <td>5</td>\n",
       "      <td>43</td>\n",
       "      <td>11589.0</td>\n",
       "      <td>10</td>\n",
       "      <td>1.10</td>\n",
       "      <td>0.271893</td>\n",
       "      <td>20000.0</td>\n",
       "      <td>3.0</td>\n",
       "      <td>0.0</td>\n",
       "      <td>1</td>\n",
       "      <td>...</td>\n",
       "      <td>0</td>\n",
       "      <td>1</td>\n",
       "      <td>0</td>\n",
       "      <td>0</td>\n",
       "      <td>0</td>\n",
       "      <td>0</td>\n",
       "      <td>1</td>\n",
       "      <td>0</td>\n",
       "      <td>0</td>\n",
       "      <td>0</td>\n",
       "    </tr>\n",
       "  </tbody>\n",
       "</table>\n",
       "<p>5 rows × 37 columns</p>\n",
       "</div>"
      ],
      "text/plain": [
       "   client_id  age  credit_sum  credit_month  tariff_id  score_shk  \\\n",
       "0          1   25     26389.0            10       1.32   0.584105   \n",
       "1          2   37     19588.0            12       1.43   0.718935   \n",
       "2          3   28     53669.0            18       1.10   0.586015   \n",
       "3          4   34     26349.0            10       1.43   0.655703   \n",
       "4          5   43     11589.0            10       1.10   0.271893   \n",
       "\n",
       "   monthly_income  credit_count  overdue_credit_count  gender_F  \\\n",
       "0         35000.0           2.0                   0.0         0   \n",
       "1         15000.0           0.0                   0.0         1   \n",
       "2         70000.0           4.0                   0.0         1   \n",
       "3         42500.0           4.0                   0.0         0   \n",
       "4         20000.0           3.0                   0.0         1   \n",
       "\n",
       "       ...        job_position_SPC  job_position_UMN  job_position_WOI  \\\n",
       "0      ...                       1                 0                 0   \n",
       "1      ...                       1                 0                 0   \n",
       "2      ...                       1                 0                 0   \n",
       "3      ...                       1                 0                 0   \n",
       "4      ...                       0                 1                 0   \n",
       "\n",
       "   job_position_WRK  job_position_WRP  education_ACD  education_GRD  \\\n",
       "0                 0                 0              0              0   \n",
       "1                 0                 0              0              0   \n",
       "2                 0                 0              0              1   \n",
       "3                 0                 0              0              0   \n",
       "4                 0                 0              0              1   \n",
       "\n",
       "   education_PGR  education_SCH  education_UGR  \n",
       "0              0              1              0  \n",
       "1              0              1              0  \n",
       "2              0              0              0  \n",
       "3              0              1              0  \n",
       "4              0              0              0  \n",
       "\n",
       "[5 rows x 37 columns]"
      ]
     },
     "execution_count": 173,
     "metadata": {},
     "output_type": "execute_result"
    }
   ],
   "source": [
    "X_train.head()"
   ]
  },
  {
   "cell_type": "markdown",
   "metadata": {},
   "source": [
    "## 3. Build the model"
   ]
  },
  {
   "cell_type": "code",
   "execution_count": 285,
   "metadata": {},
   "outputs": [],
   "source": [
    "from sklearn.ensemble import RandomForestClassifier, GradientBoostingClassifier\n",
    "import xgboost as xgb\n",
    "from sklearn.model_selection import cross_val_score\n",
    "from sklearn.metrics import f1_score, make_scorer\n",
    "from sklearn.grid_search import GridSearchCV"
   ]
  },
  {
   "cell_type": "markdown",
   "metadata": {},
   "source": [
    "На каггле наши ответы будут оцениваться метрикой Mean F1-Score. Это соответствует метрике F1 из sklearn с параметром average=\"weighted\": http://scikit-learn.org/stable/modules/generated/sklearn.metrics.f1_score.html\n",
    "\n",
    "Так как в GridSearchCV мы не можем передавать параметры метрики, то нужно сделать свою функцию метрики. Это легко делается с помощью make_scorer: в нее надо передать функцию метрики из sklearn и параметры, с которыми мы хотим ее использовать:"
   ]
  },
  {
   "cell_type": "code",
   "execution_count": 286,
   "metadata": {},
   "outputs": [],
   "source": [
    "mean_f1_metric = make_scorer(f1_score, average='weighted')"
   ]
  },
  {
   "cell_type": "markdown",
   "metadata": {},
   "source": [
    "Теперь мы можем использовать нашу функцию mean_f1_metric для подсчета метрики Mean F1-Score и передавать ее в GridSearchCV или cross-val-score =)"
   ]
  },
  {
   "cell_type": "code",
   "execution_count": 290,
   "metadata": {
    "scrolled": true
   },
   "outputs": [
    {
     "name": "stdout",
     "output_type": "stream",
     "text": [
      "Fitting 5 folds for each of 9 candidates, totalling 45 fits\n"
     ]
    },
    {
     "name": "stderr",
     "output_type": "stream",
     "text": [
      "[Parallel(n_jobs=1)]: Done  45 out of  45 | elapsed:  1.6min finished\n"
     ]
    },
    {
     "data": {
      "text/plain": [
       "({'max_depth': None, 'n_estimators': 50}, 0.7633812268545622)"
      ]
     },
     "execution_count": 290,
     "metadata": {},
     "output_type": "execute_result"
    }
   ],
   "source": [
    "rf = RandomForestClassifier()\n",
    "\n",
    "params = {\n",
    "    'n_estimators' : [1, 10, 50],\n",
    "    'max_depth' : [None, 7, 9]\n",
    "}\n",
    "\n",
    "gsv_rf = GridSearchCV(rf, param_grid=params, scoring=mean_f1_metric, cv=5, verbose=1)\n",
    "gsv_rf.fit(X_train, y_train)\n",
    "gsv_rf.best_params_, gsv_rf.best_score_"
   ]
  },
  {
   "cell_type": "markdown",
   "metadata": {},
   "source": [
    "Натренируем на всех примерах:"
   ]
  },
  {
   "cell_type": "code",
   "execution_count": 291,
   "metadata": {},
   "outputs": [
    {
     "data": {
      "text/plain": [
       "RandomForestClassifier(bootstrap=True, class_weight=None, criterion='gini',\n",
       "            max_depth=None, max_features='auto', max_leaf_nodes=None,\n",
       "            min_impurity_decrease=0.0, min_impurity_split=None,\n",
       "            min_samples_leaf=1, min_samples_split=2,\n",
       "            min_weight_fraction_leaf=0.0, n_estimators=50, n_jobs=1,\n",
       "            oob_score=False, random_state=None, verbose=0,\n",
       "            warm_start=False)"
      ]
     },
     "execution_count": 291,
     "metadata": {},
     "output_type": "execute_result"
    }
   ],
   "source": [
    "rf = RandomForestClassifier(n_estimators=50)\n",
    "rf.fit(X_train, y_train)"
   ]
  },
  {
   "cell_type": "markdown",
   "metadata": {},
   "source": [
    "## 4. Process test data"
   ]
  },
  {
   "cell_type": "code",
   "execution_count": 292,
   "metadata": {},
   "outputs": [
    {
     "data": {
      "text/html": [
       "<div>\n",
       "<style scoped>\n",
       "    .dataframe tbody tr th:only-of-type {\n",
       "        vertical-align: middle;\n",
       "    }\n",
       "\n",
       "    .dataframe tbody tr th {\n",
       "        vertical-align: top;\n",
       "    }\n",
       "\n",
       "    .dataframe thead th {\n",
       "        text-align: right;\n",
       "    }\n",
       "</style>\n",
       "<table border=\"1\" class=\"dataframe\">\n",
       "  <thead>\n",
       "    <tr style=\"text-align: right;\">\n",
       "      <th></th>\n",
       "      <th>client_id</th>\n",
       "      <th>gender</th>\n",
       "      <th>age</th>\n",
       "      <th>marital_status</th>\n",
       "      <th>job_position</th>\n",
       "      <th>credit_sum</th>\n",
       "      <th>credit_month</th>\n",
       "      <th>tariff_id</th>\n",
       "      <th>score_shk</th>\n",
       "      <th>education</th>\n",
       "      <th>living_region</th>\n",
       "      <th>monthly_income</th>\n",
       "      <th>credit_count</th>\n",
       "      <th>overdue_credit_count</th>\n",
       "    </tr>\n",
       "  </thead>\n",
       "  <tbody>\n",
       "    <tr>\n",
       "      <th>0</th>\n",
       "      <td>119519</td>\n",
       "      <td>F</td>\n",
       "      <td>24</td>\n",
       "      <td>MAR</td>\n",
       "      <td>SPC</td>\n",
       "      <td>28429.0</td>\n",
       "      <td>18</td>\n",
       "      <td>1.10</td>\n",
       "      <td>0.593836</td>\n",
       "      <td>GRD</td>\n",
       "      <td>ОБЛ ИРКУТСКАЯ</td>\n",
       "      <td>33000.0</td>\n",
       "      <td>3.0</td>\n",
       "      <td>0.0</td>\n",
       "    </tr>\n",
       "    <tr>\n",
       "      <th>1</th>\n",
       "      <td>119520</td>\n",
       "      <td>M</td>\n",
       "      <td>25</td>\n",
       "      <td>UNM</td>\n",
       "      <td>SPC</td>\n",
       "      <td>15997.0</td>\n",
       "      <td>10</td>\n",
       "      <td>1.60</td>\n",
       "      <td>0.615015</td>\n",
       "      <td>SCH</td>\n",
       "      <td>УЛЬЯНОВСКАЯ ОБЛ</td>\n",
       "      <td>35000.0</td>\n",
       "      <td>2.0</td>\n",
       "      <td>0.0</td>\n",
       "    </tr>\n",
       "    <tr>\n",
       "      <th>2</th>\n",
       "      <td>119521</td>\n",
       "      <td>M</td>\n",
       "      <td>25</td>\n",
       "      <td>UNM</td>\n",
       "      <td>SPC</td>\n",
       "      <td>11043.0</td>\n",
       "      <td>10</td>\n",
       "      <td>1.16</td>\n",
       "      <td>0.666758</td>\n",
       "      <td>SCH</td>\n",
       "      <td>РЕСП БАШКОРТОСТАН</td>\n",
       "      <td>25000.0</td>\n",
       "      <td>3.0</td>\n",
       "      <td>0.0</td>\n",
       "    </tr>\n",
       "    <tr>\n",
       "      <th>3</th>\n",
       "      <td>119522</td>\n",
       "      <td>F</td>\n",
       "      <td>34</td>\n",
       "      <td>MAR</td>\n",
       "      <td>SPC</td>\n",
       "      <td>14617.0</td>\n",
       "      <td>10</td>\n",
       "      <td>1.40</td>\n",
       "      <td>0.447745</td>\n",
       "      <td>GRD</td>\n",
       "      <td>ПЕНЗЕНСКАЯ ОБЛ</td>\n",
       "      <td>15000.0</td>\n",
       "      <td>2.0</td>\n",
       "      <td>0.0</td>\n",
       "    </tr>\n",
       "    <tr>\n",
       "      <th>4</th>\n",
       "      <td>119523</td>\n",
       "      <td>M</td>\n",
       "      <td>33</td>\n",
       "      <td>MAR</td>\n",
       "      <td>SPC</td>\n",
       "      <td>38147.0</td>\n",
       "      <td>12</td>\n",
       "      <td>1.60</td>\n",
       "      <td>0.706974</td>\n",
       "      <td>UGR</td>\n",
       "      <td>ОБЛ МОСКОВСКАЯ</td>\n",
       "      <td>55000.0</td>\n",
       "      <td>1.0</td>\n",
       "      <td>0.0</td>\n",
       "    </tr>\n",
       "  </tbody>\n",
       "</table>\n",
       "</div>"
      ],
      "text/plain": [
       "   client_id gender  age marital_status job_position  credit_sum  \\\n",
       "0     119519      F   24            MAR          SPC     28429.0   \n",
       "1     119520      M   25            UNM          SPC     15997.0   \n",
       "2     119521      M   25            UNM          SPC     11043.0   \n",
       "3     119522      F   34            MAR          SPC     14617.0   \n",
       "4     119523      M   33            MAR          SPC     38147.0   \n",
       "\n",
       "   credit_month  tariff_id  score_shk education      living_region  \\\n",
       "0            18       1.10   0.593836       GRD      ОБЛ ИРКУТСКАЯ   \n",
       "1            10       1.60   0.615015       SCH    УЛЬЯНОВСКАЯ ОБЛ   \n",
       "2            10       1.16   0.666758       SCH  РЕСП БАШКОРТОСТАН   \n",
       "3            10       1.40   0.447745       GRD     ПЕНЗЕНСКАЯ ОБЛ   \n",
       "4            12       1.60   0.706974       UGR     ОБЛ МОСКОВСКАЯ   \n",
       "\n",
       "   monthly_income  credit_count  overdue_credit_count  \n",
       "0         33000.0           3.0                   0.0  \n",
       "1         35000.0           2.0                   0.0  \n",
       "2         25000.0           3.0                   0.0  \n",
       "3         15000.0           2.0                   0.0  \n",
       "4         55000.0           1.0                   0.0  "
      ]
     },
     "execution_count": 292,
     "metadata": {},
     "output_type": "execute_result"
    }
   ],
   "source": [
    "X_test = pd.read_csv(\"test.csv\")\n",
    "X_test.head()"
   ]
  },
  {
   "cell_type": "markdown",
   "metadata": {},
   "source": [
    "Нам нужно предобработать тестовые данные точно так же, как тренировочные, чтобы можно было засовывать их в модели, обученные на тренировочных данных. "
   ]
  },
  {
   "cell_type": "code",
   "execution_count": 293,
   "metadata": {},
   "outputs": [
    {
     "data": {
      "text/plain": [
       "client_id               False\n",
       "gender                  False\n",
       "age                     False\n",
       "marital_status          False\n",
       "job_position            False\n",
       "credit_sum              False\n",
       "credit_month            False\n",
       "tariff_id               False\n",
       "score_shk               False\n",
       "education               False\n",
       "living_region            True\n",
       "monthly_income           True\n",
       "credit_count             True\n",
       "overdue_credit_count     True\n",
       "dtype: bool"
      ]
     },
     "execution_count": 293,
     "metadata": {},
     "output_type": "execute_result"
    }
   ],
   "source": [
    "X_test.isna().any()"
   ]
  },
  {
   "cell_type": "code",
   "execution_count": 294,
   "metadata": {},
   "outputs": [],
   "source": [
    "X_test.drop(\"living_region\", axis=1, inplace=True)"
   ]
  },
  {
   "cell_type": "code",
   "execution_count": 295,
   "metadata": {},
   "outputs": [],
   "source": [
    "X_test[\"monthly_income\"].fillna(X_train[\"monthly_income\"].median(), inplace=True)\n",
    "X_test[\"credit_count\"].fillna(1., inplace=True)\n",
    "X_test[\"overdue_credit_count\"].fillna(0., inplace=True)"
   ]
  },
  {
   "cell_type": "code",
   "execution_count": 296,
   "metadata": {},
   "outputs": [],
   "source": [
    "X_test = pd.get_dummies(X_test, columns=cat_features)"
   ]
  },
  {
   "cell_type": "code",
   "execution_count": 297,
   "metadata": {},
   "outputs": [
    {
     "data": {
      "text/html": [
       "<div>\n",
       "<style scoped>\n",
       "    .dataframe tbody tr th:only-of-type {\n",
       "        vertical-align: middle;\n",
       "    }\n",
       "\n",
       "    .dataframe tbody tr th {\n",
       "        vertical-align: top;\n",
       "    }\n",
       "\n",
       "    .dataframe thead th {\n",
       "        text-align: right;\n",
       "    }\n",
       "</style>\n",
       "<table border=\"1\" class=\"dataframe\">\n",
       "  <thead>\n",
       "    <tr style=\"text-align: right;\">\n",
       "      <th></th>\n",
       "      <th>client_id</th>\n",
       "      <th>age</th>\n",
       "      <th>credit_sum</th>\n",
       "      <th>credit_month</th>\n",
       "      <th>tariff_id</th>\n",
       "      <th>score_shk</th>\n",
       "      <th>monthly_income</th>\n",
       "      <th>credit_count</th>\n",
       "      <th>overdue_credit_count</th>\n",
       "      <th>gender_F</th>\n",
       "      <th>...</th>\n",
       "      <th>job_position_SPC</th>\n",
       "      <th>job_position_UMN</th>\n",
       "      <th>job_position_WOI</th>\n",
       "      <th>job_position_WRK</th>\n",
       "      <th>job_position_WRP</th>\n",
       "      <th>education_ACD</th>\n",
       "      <th>education_GRD</th>\n",
       "      <th>education_PGR</th>\n",
       "      <th>education_SCH</th>\n",
       "      <th>education_UGR</th>\n",
       "    </tr>\n",
       "  </thead>\n",
       "  <tbody>\n",
       "    <tr>\n",
       "      <th>0</th>\n",
       "      <td>119519</td>\n",
       "      <td>24</td>\n",
       "      <td>28429.0</td>\n",
       "      <td>18</td>\n",
       "      <td>1.10</td>\n",
       "      <td>0.593836</td>\n",
       "      <td>33000.0</td>\n",
       "      <td>3.0</td>\n",
       "      <td>0.0</td>\n",
       "      <td>1</td>\n",
       "      <td>...</td>\n",
       "      <td>1</td>\n",
       "      <td>0</td>\n",
       "      <td>0</td>\n",
       "      <td>0</td>\n",
       "      <td>0</td>\n",
       "      <td>0</td>\n",
       "      <td>1</td>\n",
       "      <td>0</td>\n",
       "      <td>0</td>\n",
       "      <td>0</td>\n",
       "    </tr>\n",
       "    <tr>\n",
       "      <th>1</th>\n",
       "      <td>119520</td>\n",
       "      <td>25</td>\n",
       "      <td>15997.0</td>\n",
       "      <td>10</td>\n",
       "      <td>1.60</td>\n",
       "      <td>0.615015</td>\n",
       "      <td>35000.0</td>\n",
       "      <td>2.0</td>\n",
       "      <td>0.0</td>\n",
       "      <td>0</td>\n",
       "      <td>...</td>\n",
       "      <td>1</td>\n",
       "      <td>0</td>\n",
       "      <td>0</td>\n",
       "      <td>0</td>\n",
       "      <td>0</td>\n",
       "      <td>0</td>\n",
       "      <td>0</td>\n",
       "      <td>0</td>\n",
       "      <td>1</td>\n",
       "      <td>0</td>\n",
       "    </tr>\n",
       "    <tr>\n",
       "      <th>2</th>\n",
       "      <td>119521</td>\n",
       "      <td>25</td>\n",
       "      <td>11043.0</td>\n",
       "      <td>10</td>\n",
       "      <td>1.16</td>\n",
       "      <td>0.666758</td>\n",
       "      <td>25000.0</td>\n",
       "      <td>3.0</td>\n",
       "      <td>0.0</td>\n",
       "      <td>0</td>\n",
       "      <td>...</td>\n",
       "      <td>1</td>\n",
       "      <td>0</td>\n",
       "      <td>0</td>\n",
       "      <td>0</td>\n",
       "      <td>0</td>\n",
       "      <td>0</td>\n",
       "      <td>0</td>\n",
       "      <td>0</td>\n",
       "      <td>1</td>\n",
       "      <td>0</td>\n",
       "    </tr>\n",
       "    <tr>\n",
       "      <th>3</th>\n",
       "      <td>119522</td>\n",
       "      <td>34</td>\n",
       "      <td>14617.0</td>\n",
       "      <td>10</td>\n",
       "      <td>1.40</td>\n",
       "      <td>0.447745</td>\n",
       "      <td>15000.0</td>\n",
       "      <td>2.0</td>\n",
       "      <td>0.0</td>\n",
       "      <td>1</td>\n",
       "      <td>...</td>\n",
       "      <td>1</td>\n",
       "      <td>0</td>\n",
       "      <td>0</td>\n",
       "      <td>0</td>\n",
       "      <td>0</td>\n",
       "      <td>0</td>\n",
       "      <td>1</td>\n",
       "      <td>0</td>\n",
       "      <td>0</td>\n",
       "      <td>0</td>\n",
       "    </tr>\n",
       "    <tr>\n",
       "      <th>4</th>\n",
       "      <td>119523</td>\n",
       "      <td>33</td>\n",
       "      <td>38147.0</td>\n",
       "      <td>12</td>\n",
       "      <td>1.60</td>\n",
       "      <td>0.706974</td>\n",
       "      <td>55000.0</td>\n",
       "      <td>1.0</td>\n",
       "      <td>0.0</td>\n",
       "      <td>0</td>\n",
       "      <td>...</td>\n",
       "      <td>1</td>\n",
       "      <td>0</td>\n",
       "      <td>0</td>\n",
       "      <td>0</td>\n",
       "      <td>0</td>\n",
       "      <td>0</td>\n",
       "      <td>0</td>\n",
       "      <td>0</td>\n",
       "      <td>0</td>\n",
       "      <td>1</td>\n",
       "    </tr>\n",
       "  </tbody>\n",
       "</table>\n",
       "<p>5 rows × 37 columns</p>\n",
       "</div>"
      ],
      "text/plain": [
       "   client_id  age  credit_sum  credit_month  tariff_id  score_shk  \\\n",
       "0     119519   24     28429.0            18       1.10   0.593836   \n",
       "1     119520   25     15997.0            10       1.60   0.615015   \n",
       "2     119521   25     11043.0            10       1.16   0.666758   \n",
       "3     119522   34     14617.0            10       1.40   0.447745   \n",
       "4     119523   33     38147.0            12       1.60   0.706974   \n",
       "\n",
       "   monthly_income  credit_count  overdue_credit_count  gender_F  \\\n",
       "0         33000.0           3.0                   0.0         1   \n",
       "1         35000.0           2.0                   0.0         0   \n",
       "2         25000.0           3.0                   0.0         0   \n",
       "3         15000.0           2.0                   0.0         1   \n",
       "4         55000.0           1.0                   0.0         0   \n",
       "\n",
       "       ...        job_position_SPC  job_position_UMN  job_position_WOI  \\\n",
       "0      ...                       1                 0                 0   \n",
       "1      ...                       1                 0                 0   \n",
       "2      ...                       1                 0                 0   \n",
       "3      ...                       1                 0                 0   \n",
       "4      ...                       1                 0                 0   \n",
       "\n",
       "   job_position_WRK  job_position_WRP  education_ACD  education_GRD  \\\n",
       "0                 0                 0              0              1   \n",
       "1                 0                 0              0              0   \n",
       "2                 0                 0              0              0   \n",
       "3                 0                 0              0              1   \n",
       "4                 0                 0              0              0   \n",
       "\n",
       "   education_PGR  education_SCH  education_UGR  \n",
       "0              0              0              0  \n",
       "1              0              1              0  \n",
       "2              0              1              0  \n",
       "3              0              0              0  \n",
       "4              0              0              1  \n",
       "\n",
       "[5 rows x 37 columns]"
      ]
     },
     "execution_count": 297,
     "metadata": {},
     "output_type": "execute_result"
    }
   ],
   "source": [
    "X_test.head()"
   ]
  },
  {
   "cell_type": "markdown",
   "metadata": {},
   "source": [
    "## 5. Get file with answers"
   ]
  },
  {
   "cell_type": "code",
   "execution_count": 298,
   "metadata": {},
   "outputs": [],
   "source": [
    "preds = rf.predict(X_test)"
   ]
  },
  {
   "cell_type": "code",
   "execution_count": 299,
   "metadata": {},
   "outputs": [
    {
     "data": {
      "text/plain": [
       "0.05401975713560579"
      ]
     },
     "execution_count": 299,
     "metadata": {},
     "output_type": "execute_result"
    }
   ],
   "source": [
    "preds.mean()"
   ]
  },
  {
   "cell_type": "code",
   "execution_count": 300,
   "metadata": {},
   "outputs": [
    {
     "name": "stderr",
     "output_type": "stream",
     "text": [
      "/anaconda3/lib/python3.6/site-packages/ipykernel_launcher.py:1: FutureWarning: reshape is deprecated and will raise in a subsequent release. Please use .values.reshape(...) instead\n",
      "  \"\"\"Entry point for launching an IPython kernel.\n"
     ]
    }
   ],
   "source": [
    "ans = pd.DataFrame(np.concatenate([X_test[\"client_id\"].reshape(-1, 1), preds.reshape(-1, 1)], axis=1), columns=[\"client_id\", \"open_account_flg\"])"
   ]
  },
  {
   "cell_type": "code",
   "execution_count": 301,
   "metadata": {},
   "outputs": [],
   "source": [
    "ans.to_csv(\"sampleSubmission.csv\", index=None)"
   ]
  }
 ],
 "metadata": {
  "kernelspec": {
   "display_name": "Python 3",
   "language": "python",
   "name": "python3"
  },
  "language_info": {
   "codemirror_mode": {
    "name": "ipython",
    "version": 3
   },
   "file_extension": ".py",
   "mimetype": "text/x-python",
   "name": "python",
   "nbconvert_exporter": "python",
   "pygments_lexer": "ipython3",
   "version": "3.6.4"
  }
 },
 "nbformat": 4,
 "nbformat_minor": 2
}
