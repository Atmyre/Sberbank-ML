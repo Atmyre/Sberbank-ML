{
 "cells": [
  {
   "cell_type": "markdown",
   "metadata": {},
   "source": [
    "Привет!\n",
    "\n",
    "Это ноутбук-бейзлайн к конкурсу на каггл: https://www.kaggle.com/t/38353d5b42dd423e82f26794bed57bc1\n",
    "\n",
    "Вам нужно постараться улучшить его, чтобы скор на каггле стал побольше =)\n",
    "Тренировочные и тестовые данные лежат рядом с ноутбуком или их можно скачать с каггла."
   ]
  },
  {
   "cell_type": "code",
   "execution_count": 1,
   "metadata": {},
   "outputs": [],
   "source": [
    "import numpy as np\n",
    "import pandas as pd"
   ]
  },
  {
   "cell_type": "markdown",
   "metadata": {},
   "source": [
    "## 1. Get data"
   ]
  },
  {
   "cell_type": "markdown",
   "metadata": {},
   "source": [
    "Загрузим данные и посмотрим на них:"
   ]
  },
  {
   "cell_type": "code",
   "execution_count": 2,
   "metadata": {},
   "outputs": [
    {
     "data": {
      "text/html": [
       "<div>\n",
       "<style scoped>\n",
       "    .dataframe tbody tr th:only-of-type {\n",
       "        vertical-align: middle;\n",
       "    }\n",
       "\n",
       "    .dataframe tbody tr th {\n",
       "        vertical-align: top;\n",
       "    }\n",
       "\n",
       "    .dataframe thead th {\n",
       "        text-align: right;\n",
       "    }\n",
       "</style>\n",
       "<table border=\"1\" class=\"dataframe\">\n",
       "  <thead>\n",
       "    <tr style=\"text-align: right;\">\n",
       "      <th></th>\n",
       "      <th>client_id</th>\n",
       "      <th>gender</th>\n",
       "      <th>age</th>\n",
       "      <th>marital_status</th>\n",
       "      <th>job_position</th>\n",
       "      <th>credit_sum</th>\n",
       "      <th>credit_month</th>\n",
       "      <th>tariff_id</th>\n",
       "      <th>score_shk</th>\n",
       "      <th>education</th>\n",
       "      <th>living_region</th>\n",
       "      <th>monthly_income</th>\n",
       "      <th>credit_count</th>\n",
       "      <th>overdue_credit_count</th>\n",
       "      <th>open_account_flg</th>\n",
       "    </tr>\n",
       "  </thead>\n",
       "  <tbody>\n",
       "    <tr>\n",
       "      <th>0</th>\n",
       "      <td>1</td>\n",
       "      <td>M</td>\n",
       "      <td>25</td>\n",
       "      <td>UNM</td>\n",
       "      <td>SPC</td>\n",
       "      <td>26389.0</td>\n",
       "      <td>10</td>\n",
       "      <td>1.32</td>\n",
       "      <td>0.584105</td>\n",
       "      <td>SCH</td>\n",
       "      <td>ОБЛ КУРСКАЯ</td>\n",
       "      <td>35000.0</td>\n",
       "      <td>2.0</td>\n",
       "      <td>0.0</td>\n",
       "      <td>1</td>\n",
       "    </tr>\n",
       "    <tr>\n",
       "      <th>1</th>\n",
       "      <td>2</td>\n",
       "      <td>F</td>\n",
       "      <td>37</td>\n",
       "      <td>MAR</td>\n",
       "      <td>SPC</td>\n",
       "      <td>19588.0</td>\n",
       "      <td>12</td>\n",
       "      <td>1.43</td>\n",
       "      <td>0.718935</td>\n",
       "      <td>SCH</td>\n",
       "      <td>РЕСПУБЛИКА ТАТАРСТАН</td>\n",
       "      <td>15000.0</td>\n",
       "      <td>0.0</td>\n",
       "      <td>0.0</td>\n",
       "      <td>1</td>\n",
       "    </tr>\n",
       "    <tr>\n",
       "      <th>2</th>\n",
       "      <td>3</td>\n",
       "      <td>F</td>\n",
       "      <td>28</td>\n",
       "      <td>UNM</td>\n",
       "      <td>SPC</td>\n",
       "      <td>53669.0</td>\n",
       "      <td>18</td>\n",
       "      <td>1.10</td>\n",
       "      <td>0.586015</td>\n",
       "      <td>GRD</td>\n",
       "      <td>МОСКВА Г</td>\n",
       "      <td>70000.0</td>\n",
       "      <td>4.0</td>\n",
       "      <td>0.0</td>\n",
       "      <td>1</td>\n",
       "    </tr>\n",
       "    <tr>\n",
       "      <th>3</th>\n",
       "      <td>4</td>\n",
       "      <td>M</td>\n",
       "      <td>34</td>\n",
       "      <td>MAR</td>\n",
       "      <td>SPC</td>\n",
       "      <td>26349.0</td>\n",
       "      <td>10</td>\n",
       "      <td>1.43</td>\n",
       "      <td>0.655703</td>\n",
       "      <td>SCH</td>\n",
       "      <td>СВЕРДЛОВСКАЯ ОБЛАСТЬ</td>\n",
       "      <td>42500.0</td>\n",
       "      <td>4.0</td>\n",
       "      <td>0.0</td>\n",
       "      <td>0</td>\n",
       "    </tr>\n",
       "    <tr>\n",
       "      <th>4</th>\n",
       "      <td>5</td>\n",
       "      <td>F</td>\n",
       "      <td>43</td>\n",
       "      <td>MAR</td>\n",
       "      <td>UMN</td>\n",
       "      <td>11589.0</td>\n",
       "      <td>10</td>\n",
       "      <td>1.10</td>\n",
       "      <td>0.271893</td>\n",
       "      <td>GRD</td>\n",
       "      <td>РЯЗАНСКАЯ ОБЛАСТЬ</td>\n",
       "      <td>20000.0</td>\n",
       "      <td>3.0</td>\n",
       "      <td>0.0</td>\n",
       "      <td>0</td>\n",
       "    </tr>\n",
       "  </tbody>\n",
       "</table>\n",
       "</div>"
      ],
      "text/plain": [
       "   client_id gender  age marital_status job_position  credit_sum  \\\n",
       "0          1      M   25            UNM          SPC     26389.0   \n",
       "1          2      F   37            MAR          SPC     19588.0   \n",
       "2          3      F   28            UNM          SPC     53669.0   \n",
       "3          4      M   34            MAR          SPC     26349.0   \n",
       "4          5      F   43            MAR          UMN     11589.0   \n",
       "\n",
       "   credit_month  tariff_id  score_shk education         living_region  \\\n",
       "0            10       1.32   0.584105       SCH           ОБЛ КУРСКАЯ   \n",
       "1            12       1.43   0.718935       SCH  РЕСПУБЛИКА ТАТАРСТАН   \n",
       "2            18       1.10   0.586015       GRD              МОСКВА Г   \n",
       "3            10       1.43   0.655703       SCH  СВЕРДЛОВСКАЯ ОБЛАСТЬ   \n",
       "4            10       1.10   0.271893       GRD     РЯЗАНСКАЯ ОБЛАСТЬ   \n",
       "\n",
       "   monthly_income  credit_count  overdue_credit_count  open_account_flg  \n",
       "0         35000.0           2.0                   0.0                 1  \n",
       "1         15000.0           0.0                   0.0                 1  \n",
       "2         70000.0           4.0                   0.0                 1  \n",
       "3         42500.0           4.0                   0.0                 0  \n",
       "4         20000.0           3.0                   0.0                 0  "
      ]
     },
     "execution_count": 2,
     "metadata": {},
     "output_type": "execute_result"
    }
   ],
   "source": [
    "train_data = pd.read_csv(\"train.csv\")\n",
    "train_data.head()"
   ]
  },
  {
   "cell_type": "code",
   "execution_count": 3,
   "metadata": {},
   "outputs": [],
   "source": [
    "X_train, y_train = train_data.drop(\"open_account_flg\", axis=1), train_data[\"open_account_flg\"]"
   ]
  },
  {
   "cell_type": "markdown",
   "metadata": {},
   "source": [
    "## 2. Preprocessing"
   ]
  },
  {
   "cell_type": "code",
   "execution_count": 4,
   "metadata": {
    "scrolled": true
   },
   "outputs": [
    {
     "data": {
      "text/plain": [
       "client_id               False\n",
       "gender                  False\n",
       "age                     False\n",
       "marital_status          False\n",
       "job_position            False\n",
       "credit_sum              False\n",
       "credit_month            False\n",
       "tariff_id               False\n",
       "score_shk               False\n",
       "education               False\n",
       "living_region            True\n",
       "monthly_income          False\n",
       "credit_count             True\n",
       "overdue_credit_count     True\n",
       "open_account_flg        False\n",
       "dtype: bool"
      ]
     },
     "execution_count": 4,
     "metadata": {},
     "output_type": "execute_result"
    }
   ],
   "source": [
    "train_data.isna().any()"
   ]
  },
  {
   "cell_type": "markdown",
   "metadata": {},
   "source": [
    "#### fill nans in \"living region\""
   ]
  },
  {
   "cell_type": "code",
   "execution_count": 5,
   "metadata": {
    "scrolled": true
   },
   "outputs": [
    {
     "data": {
      "text/plain": [
       "ОБЛ МОСКОВСКАЯ                              8564\n",
       "КРАСНОДАРСКИЙ КРАЙ                          5176\n",
       "САНКТ-ПЕТЕРБУРГ                             3968\n",
       "МОСКВА                                      3821\n",
       "ТАТАРСТАН РЕСП                              3635\n",
       "РЕСП БАШКОРТОСТАН                           3358\n",
       "ОБЛ ИРКУТСКАЯ                               2863\n",
       "СВЕРДЛОВСКАЯ ОБЛ                            2782\n",
       "МОСКВА Г                                    2509\n",
       "ОБЛ НИЖЕГОРОДСКАЯ                           2504\n",
       "ОБЛ ЛЕНИНГРАДСКАЯ                           2235\n",
       "РОСТОВСКАЯ ОБЛ                              2111\n",
       "КРАСНОЯРСКИЙ КРАЙ                           2087\n",
       "ЧЕЛЯБИНСКАЯ ОБЛ                             2047\n",
       "ОБЛ САМАРСКАЯ                               2034\n",
       "ОБЛ КЕМЕРОВСКАЯ                             1993\n",
       "ПЕРМСКИЙ КРАЙ                               1930\n",
       "САНКТ-ПЕТЕРБУРГ Г                           1866\n",
       "КРАЙ СТАВРОПОЛЬСКИЙ                         1833\n",
       "ОБЛ АСТРАХАНСКАЯ                            1756\n",
       "ОБЛ ВОЛОГОДСКАЯ                             1756\n",
       "ОБЛ ВОЛГОГРАДСКАЯ                           1587\n",
       "ХАНТЫ-МАНСИЙСКИЙ АВТОНОМНЫЙ ОКРУГ - ЮГРА    1575\n",
       "РЕСПУБЛИКА ТАТАРСТАН                        1513\n",
       "ОБЛ НОВОСИБИРСКАЯ                           1496\n",
       "СВЕРДЛОВСКАЯ ОБЛАСТЬ                        1410\n",
       "СТАВРОПОЛЬСКИЙ КРАЙ                         1395\n",
       "ЯМАЛО-НЕНЕЦКИЙ АО                           1249\n",
       "ОБЛ АРХАНГЕЛЬСКАЯ                           1204\n",
       "ОБЛ ВОРОНЕЖСКАЯ                             1172\n",
       "                                            ... \n",
       "РЕСП. КОМИ                                     1\n",
       "КАРЕЛИЯ                                        1\n",
       "НОВОСИБИРСКАЯ                                  1\n",
       "КРАЙ. СТАВРОПОЛЬСКИЙ                           1\n",
       "ОБЛ.НИЖЕГОРОДСКАЯ                              1\n",
       "ВОЛОГОДСКАЯ ОБЛ.                               1\n",
       "ОБЛ. КУРГАНСКАЯ                                1\n",
       "ОБЛ.САРАТОВСКАЯ                                1\n",
       "ОБЛ. ВЛАДИМИРСКАЯ                              1\n",
       "КАЛМЫКИЯ                                       1\n",
       "ИНГУШЕТИЯ РЕСП                                 1\n",
       "КРАЙ. КРАСНОЯРСКИЙ                             1\n",
       "ТЮМЕНСКАЯ                                      1\n",
       "ГУСЬ-ХРУСТАЛЬНЫЙ Р-Н                           1\n",
       "КОМИ                                           1\n",
       "ХАКАСИЯ                                        1\n",
       "КАМЧАТСКАЯ ОБЛАСТЬ                             1\n",
       "ПЕРМСКИЙ                                       1\n",
       "МАГАДАНСКАЯ ОБЛАСТЬ                            1\n",
       "РОССИЯ                                         1\n",
       "ПРИВОЛЖСКИЙ ФЕДЕРАЛЬНЫЙ ОКРУГ                  1\n",
       "АРХАНГЕЛЬСКАЯ                                  1\n",
       "СВЕРДЛОВСКАЯ                                   1\n",
       "ОМСКАЯ                                         1\n",
       "РЕСП ЧУВАШСКАЯ - ЧУВАШИЯ                       1\n",
       "Г.МОСКВА                                       1\n",
       "ОРЁЛ                                           1\n",
       "ОБЛ. СВЕРДЛОВСКАЯ                              1\n",
       "ЧУВАШСКАЯ РЕСП                                 1\n",
       "ТОМСКАЯ                                        1\n",
       "Name: living_region, Length: 285, dtype: int64"
      ]
     },
     "execution_count": 5,
     "metadata": {},
     "output_type": "execute_result"
    }
   ],
   "source": [
    "X_train[\"living_region\"].value_counts()"
   ]
  },
  {
   "cell_type": "markdown",
   "metadata": {},
   "source": [
    "^ действительно, какой еще самый частый регион можно было ожидать. "
   ]
  },
  {
   "cell_type": "code",
   "execution_count": 6,
   "metadata": {},
   "outputs": [],
   "source": [
    "X_train[\"living_region\"].fillna(\"ОБЛ МОСКОВСКАЯ\", inplace=True)"
   ]
  },
  {
   "cell_type": "code",
   "execution_count": 40,
   "metadata": {},
   "outputs": [],
   "source": [
    "data_region_feats = X_train[['living_region']].reset_index(drop=True)\n",
    "\n",
    "data_region_feats['living_region'] = data_region_feats['living_region'].str.lower().str.strip()\n",
    "data_region_feats.loc[data_region_feats['living_region']=='москва г', 'living_region'] = 'москва'\n",
    "data_region_feats.loc[data_region_feats['living_region']=='санкт-петербург г', 'living_region'] = 'санкт-петербург'\n",
    "\n",
    "data_region_feats['living_region'] = data_region_feats['living_region'].str.replace(' г.', '')\n",
    "data_region_feats['living_region'] = data_region_feats['living_region'].str.replace('г. ', '')\n",
    "data_region_feats['living_region'] = data_region_feats['living_region'].str.replace(' г', '')\n",
    "data_region_feats['living_region'] = data_region_feats['living_region'].str.replace('г ', '')\n",
    "data_region_feats['living_region'] = data_region_feats['living_region'].str.replace('край', '')\n",
    "data_region_feats['living_region'] = data_region_feats['living_region'].str.replace('область', '')\n",
    "data_region_feats['living_region'] = data_region_feats['living_region'].str.replace('аобл', '')\n",
    "data_region_feats['living_region'] = data_region_feats['living_region'].str.replace('обл', '')\n",
    "data_region_feats['living_region'] = data_region_feats['living_region'].str.replace('республика', '')\n",
    "data_region_feats['living_region'] = data_region_feats['living_region'].str.replace('респ', '')\n",
    "data_region_feats['living_region'] = data_region_feats['living_region'].str.replace(' ао', '')\n",
    "data_region_feats['living_region'] = data_region_feats['living_region'].str.replace('ао ', '')\n",
    "data_region_feats['living_region'] = data_region_feats['living_region'].str.replace('автономный', '')\n",
    "data_region_feats['living_region'] = data_region_feats['living_region'].str.replace('автономная', '')\n",
    "data_region_feats['living_region'] = data_region_feats['living_region'].str.replace('округ', '')\n",
    "data_region_feats['living_region'] = data_region_feats['living_region'].str.replace('.', '')\n",
    "data_region_feats['living_region'] = data_region_feats['living_region'].str.replace(',', '')\n",
    "data_region_feats['living_region'] = data_region_feats['living_region'].str.replace('-', '')\n",
    "data_region_feats['living_region'] = data_region_feats['living_region'].str.replace(' ', '')\n",
    "data_region_feats['living_region'] = data_region_feats['living_region'].str.replace('москвоская', 'московская')\n",
    "data_region_feats['living_region'] = data_region_feats['living_region'].str.replace('годинцовомосковская', 'московская')\n",
    "data_region_feats['living_region'] = data_region_feats['living_region'].str.replace('гмосква', 'москва')\n",
    "data_region_feats['living_region'] = data_region_feats['living_region'].str.replace('чувашиячувашская', 'чувашская')\n",
    "data_region_feats['living_region'] = data_region_feats['living_region'].str.replace('чувашия', 'чувашская')\n",
    "data_region_feats['living_region'] = data_region_feats['living_region'].str.strip()\n",
    "\n",
    "reg_cnt = data_region_feats['living_region'].value_counts()"
   ]
  },
  {
   "cell_type": "code",
   "execution_count": null,
   "metadata": {},
   "outputs": [],
   "source": []
  },
  {
   "cell_type": "code",
   "execution_count": 45,
   "metadata": {},
   "outputs": [
    {
     "data": {
      "text/html": [
       "<div>\n",
       "<style scoped>\n",
       "    .dataframe tbody tr th:only-of-type {\n",
       "        vertical-align: middle;\n",
       "    }\n",
       "\n",
       "    .dataframe tbody tr th {\n",
       "        vertical-align: top;\n",
       "    }\n",
       "\n",
       "    .dataframe thead th {\n",
       "        text-align: right;\n",
       "    }\n",
       "</style>\n",
       "<table border=\"1\" class=\"dataframe\">\n",
       "  <thead>\n",
       "    <tr style=\"text-align: right;\">\n",
       "      <th></th>\n",
       "      <th>client_id</th>\n",
       "      <th>gender</th>\n",
       "      <th>age</th>\n",
       "      <th>marital_status</th>\n",
       "      <th>job_position</th>\n",
       "      <th>credit_sum</th>\n",
       "      <th>credit_month</th>\n",
       "      <th>tariff_id</th>\n",
       "      <th>score_shk</th>\n",
       "      <th>education</th>\n",
       "      <th>living_region</th>\n",
       "      <th>monthly_income</th>\n",
       "      <th>credit_count</th>\n",
       "      <th>overdue_credit_count</th>\n",
       "      <th>living_region_0</th>\n",
       "      <th>living_region_1</th>\n",
       "      <th>living_region_2</th>\n",
       "      <th>living_region_3</th>\n",
       "    </tr>\n",
       "  </thead>\n",
       "  <tbody>\n",
       "    <tr>\n",
       "      <th>0</th>\n",
       "      <td>1</td>\n",
       "      <td>M</td>\n",
       "      <td>25</td>\n",
       "      <td>UNM</td>\n",
       "      <td>SPC</td>\n",
       "      <td>26389.0</td>\n",
       "      <td>10</td>\n",
       "      <td>1.32</td>\n",
       "      <td>0.584105</td>\n",
       "      <td>SCH</td>\n",
       "      <td>ОБЛ КУРСКАЯ</td>\n",
       "      <td>35000.0</td>\n",
       "      <td>2.0</td>\n",
       "      <td>0.0</td>\n",
       "      <td>1</td>\n",
       "      <td>0</td>\n",
       "      <td>0</td>\n",
       "      <td>0</td>\n",
       "    </tr>\n",
       "    <tr>\n",
       "      <th>1</th>\n",
       "      <td>2</td>\n",
       "      <td>F</td>\n",
       "      <td>37</td>\n",
       "      <td>MAR</td>\n",
       "      <td>SPC</td>\n",
       "      <td>19588.0</td>\n",
       "      <td>12</td>\n",
       "      <td>1.43</td>\n",
       "      <td>0.718935</td>\n",
       "      <td>SCH</td>\n",
       "      <td>РЕСПУБЛИКА ТАТАРСТАН</td>\n",
       "      <td>15000.0</td>\n",
       "      <td>0.0</td>\n",
       "      <td>0.0</td>\n",
       "      <td>1</td>\n",
       "      <td>0</td>\n",
       "      <td>0</td>\n",
       "      <td>0</td>\n",
       "    </tr>\n",
       "    <tr>\n",
       "      <th>2</th>\n",
       "      <td>3</td>\n",
       "      <td>F</td>\n",
       "      <td>28</td>\n",
       "      <td>UNM</td>\n",
       "      <td>SPC</td>\n",
       "      <td>53669.0</td>\n",
       "      <td>18</td>\n",
       "      <td>1.10</td>\n",
       "      <td>0.586015</td>\n",
       "      <td>GRD</td>\n",
       "      <td>МОСКВА Г</td>\n",
       "      <td>70000.0</td>\n",
       "      <td>4.0</td>\n",
       "      <td>0.0</td>\n",
       "      <td>1</td>\n",
       "      <td>0</td>\n",
       "      <td>0</td>\n",
       "      <td>0</td>\n",
       "    </tr>\n",
       "    <tr>\n",
       "      <th>3</th>\n",
       "      <td>4</td>\n",
       "      <td>M</td>\n",
       "      <td>34</td>\n",
       "      <td>MAR</td>\n",
       "      <td>SPC</td>\n",
       "      <td>26349.0</td>\n",
       "      <td>10</td>\n",
       "      <td>1.43</td>\n",
       "      <td>0.655703</td>\n",
       "      <td>SCH</td>\n",
       "      <td>СВЕРДЛОВСКАЯ ОБЛАСТЬ</td>\n",
       "      <td>42500.0</td>\n",
       "      <td>4.0</td>\n",
       "      <td>0.0</td>\n",
       "      <td>1</td>\n",
       "      <td>0</td>\n",
       "      <td>0</td>\n",
       "      <td>0</td>\n",
       "    </tr>\n",
       "    <tr>\n",
       "      <th>4</th>\n",
       "      <td>5</td>\n",
       "      <td>F</td>\n",
       "      <td>43</td>\n",
       "      <td>MAR</td>\n",
       "      <td>UMN</td>\n",
       "      <td>11589.0</td>\n",
       "      <td>10</td>\n",
       "      <td>1.10</td>\n",
       "      <td>0.271893</td>\n",
       "      <td>GRD</td>\n",
       "      <td>РЯЗАНСКАЯ ОБЛАСТЬ</td>\n",
       "      <td>20000.0</td>\n",
       "      <td>3.0</td>\n",
       "      <td>0.0</td>\n",
       "      <td>1</td>\n",
       "      <td>0</td>\n",
       "      <td>0</td>\n",
       "      <td>0</td>\n",
       "    </tr>\n",
       "  </tbody>\n",
       "</table>\n",
       "</div>"
      ],
      "text/plain": [
       "   client_id gender  age marital_status job_position  credit_sum  \\\n",
       "0          1      M   25            UNM          SPC     26389.0   \n",
       "1          2      F   37            MAR          SPC     19588.0   \n",
       "2          3      F   28            UNM          SPC     53669.0   \n",
       "3          4      M   34            MAR          SPC     26349.0   \n",
       "4          5      F   43            MAR          UMN     11589.0   \n",
       "\n",
       "   credit_month  tariff_id  score_shk education         living_region  \\\n",
       "0            10       1.32   0.584105       SCH           ОБЛ КУРСКАЯ   \n",
       "1            12       1.43   0.718935       SCH  РЕСПУБЛИКА ТАТАРСТАН   \n",
       "2            18       1.10   0.586015       GRD              МОСКВА Г   \n",
       "3            10       1.43   0.655703       SCH  СВЕРДЛОВСКАЯ ОБЛАСТЬ   \n",
       "4            10       1.10   0.271893       GRD     РЯЗАНСКАЯ ОБЛАСТЬ   \n",
       "\n",
       "   monthly_income  credit_count  overdue_credit_count  living_region_0  \\\n",
       "0         35000.0           2.0                   0.0                1   \n",
       "1         15000.0           0.0                   0.0                1   \n",
       "2         70000.0           4.0                   0.0                1   \n",
       "3         42500.0           4.0                   0.0                1   \n",
       "4         20000.0           3.0                   0.0                1   \n",
       "\n",
       "   living_region_1  living_region_2  living_region_3  \n",
       "0                0                0                0  \n",
       "1                0                0                0  \n",
       "2                0                0                0  \n",
       "3                0                0                0  \n",
       "4                0                0                0  "
      ]
     },
     "execution_count": 45,
     "metadata": {},
     "output_type": "execute_result"
    }
   ],
   "source": [
    "X_train.head()"
   ]
  },
  {
   "cell_type": "code",
   "execution_count": null,
   "metadata": {},
   "outputs": [],
   "source": [
    "data_region_feats"
   ]
  },
  {
   "cell_type": "code",
   "execution_count": 21,
   "metadata": {},
   "outputs": [
    {
     "data": {
      "text/plain": [
       "<matplotlib.axes._subplots.AxesSubplot at 0x11f84d5c0>"
      ]
     },
     "execution_count": 21,
     "metadata": {},
     "output_type": "execute_result"
    },
    {
     "data": {
      "image/png": "[encoded data removed]",
      "text/plain": [
       "<matplotlib.figure.Figure at 0x11f7f54a8>"
      ]
     },
     "metadata": {},
     "output_type": "display_data"
    }
   ],
   "source": [
    "import seaborn as sns\n",
    "fig, ax = plt.subplots(figsize=(20, 10))\n",
    "plt.xticks(rotation=90)\n",
    "sns.countplot(data_region_feats['living_region'], ax=ax,)"
   ]
  },
  {
   "cell_type": "markdown",
   "metadata": {},
   "source": [
    "#### fill nans in \"credit_count\""
   ]
  },
  {
   "cell_type": "code",
   "execution_count": 7,
   "metadata": {},
   "outputs": [
    {
     "data": {
      "text/plain": [
       "1.0     31714\n",
       "2.0     25799\n",
       "0.0     18219\n",
       "3.0     16707\n",
       "4.0      9826\n",
       "5.0      5285\n",
       "6.0      2760\n",
       "7.0      1345\n",
       "8.0       707\n",
       "9.0       326\n",
       "10.0      141\n",
       "11.0       90\n",
       "12.0       56\n",
       "13.0       25\n",
       "14.0       12\n",
       "15.0       10\n",
       "17.0        4\n",
       "19.0        3\n",
       "16.0        2\n",
       "18.0        1\n",
       "Name: credit_count, dtype: int64"
      ]
     },
     "execution_count": 7,
     "metadata": {},
     "output_type": "execute_result"
    }
   ],
   "source": [
    "X_train[\"credit_count\"].value_counts()"
   ]
  },
  {
   "cell_type": "code",
   "execution_count": 8,
   "metadata": {},
   "outputs": [],
   "source": [
    "X_train[\"credit_count\"].fillna(0., inplace=True)"
   ]
  },
  {
   "cell_type": "markdown",
   "metadata": {},
   "source": [
    "#### fill nans in \"overdue_credit_count\""
   ]
  },
  {
   "cell_type": "code",
   "execution_count": 9,
   "metadata": {},
   "outputs": [
    {
     "data": {
      "text/plain": [
       "0.0    107812\n",
       "1.0      5180\n",
       "2.0        36\n",
       "3.0         4\n",
       "Name: overdue_credit_count, dtype: int64"
      ]
     },
     "execution_count": 9,
     "metadata": {},
     "output_type": "execute_result"
    }
   ],
   "source": [
    "X_train[\"overdue_credit_count\"].value_counts()"
   ]
  },
  {
   "cell_type": "code",
   "execution_count": 10,
   "metadata": {},
   "outputs": [],
   "source": [
    "X_train[\"overdue_credit_count\"].fillna(0., inplace=True)"
   ]
  },
  {
   "cell_type": "markdown",
   "metadata": {},
   "source": [
    "#### fill nans in \"monthly income\""
   ]
  },
  {
   "cell_type": "code",
   "execution_count": 11,
   "metadata": {},
   "outputs": [
    {
     "data": {
      "text/plain": [
       "35000.0"
      ]
     },
     "execution_count": 11,
     "metadata": {},
     "output_type": "execute_result"
    }
   ],
   "source": [
    "X_train[\"monthly_income\"].median()"
   ]
  },
  {
   "cell_type": "code",
   "execution_count": 12,
   "metadata": {},
   "outputs": [],
   "source": [
    "X_train[\"monthly_income\"].fillna(X_train[\"monthly_income\"].median(), inplace=True)"
   ]
  },
  {
   "cell_type": "markdown",
   "metadata": {},
   "source": [
    "### Dealing with categorical features"
   ]
  },
  {
   "cell_type": "markdown",
   "metadata": {},
   "source": [
    "#### In a baseline lets delete \"living_region\" feature as its categorical and has too many values)"
   ]
  },
  {
   "cell_type": "code",
   "execution_count": 13,
   "metadata": {},
   "outputs": [],
   "source": [
    "X_train.drop(\"living_region\", axis=1, inplace=True)"
   ]
  },
  {
   "cell_type": "code",
   "execution_count": 14,
   "metadata": {},
   "outputs": [
    {
     "data": {
      "text/plain": [
       "['gender', 'marital_status', 'job_position', 'education', 'tariff_id']"
      ]
     },
     "execution_count": 14,
     "metadata": {},
     "output_type": "execute_result"
    }
   ],
   "source": [
    "cat_features = [i[0] for i in dict(X_train.dtypes).items() if 'obj' in str(i[1])]+[\"tariff_id\"]\n",
    "cat_features"
   ]
  },
  {
   "cell_type": "markdown",
   "metadata": {},
   "source": [
    "#### Convert categirical features to numerical and binarize them"
   ]
  },
  {
   "cell_type": "code",
   "execution_count": 15,
   "metadata": {},
   "outputs": [
    {
     "data": {
      "text/html": [
       "<div>\n",
       "<style scoped>\n",
       "    .dataframe tbody tr th:only-of-type {\n",
       "        vertical-align: middle;\n",
       "    }\n",
       "\n",
       "    .dataframe tbody tr th {\n",
       "        vertical-align: top;\n",
       "    }\n",
       "\n",
       "    .dataframe thead th {\n",
       "        text-align: right;\n",
       "    }\n",
       "</style>\n",
       "<table border=\"1\" class=\"dataframe\">\n",
       "  <thead>\n",
       "    <tr style=\"text-align: right;\">\n",
       "      <th></th>\n",
       "      <th>client_id</th>\n",
       "      <th>gender</th>\n",
       "      <th>age</th>\n",
       "      <th>marital_status</th>\n",
       "      <th>job_position</th>\n",
       "      <th>credit_sum</th>\n",
       "      <th>credit_month</th>\n",
       "      <th>tariff_id</th>\n",
       "      <th>score_shk</th>\n",
       "      <th>education</th>\n",
       "      <th>monthly_income</th>\n",
       "      <th>credit_count</th>\n",
       "      <th>overdue_credit_count</th>\n",
       "    </tr>\n",
       "  </thead>\n",
       "  <tbody>\n",
       "    <tr>\n",
       "      <th>0</th>\n",
       "      <td>1</td>\n",
       "      <td>M</td>\n",
       "      <td>25</td>\n",
       "      <td>UNM</td>\n",
       "      <td>SPC</td>\n",
       "      <td>26389.0</td>\n",
       "      <td>10</td>\n",
       "      <td>1.32</td>\n",
       "      <td>0.584105</td>\n",
       "      <td>SCH</td>\n",
       "      <td>35000.0</td>\n",
       "      <td>2.0</td>\n",
       "      <td>0.0</td>\n",
       "    </tr>\n",
       "    <tr>\n",
       "      <th>1</th>\n",
       "      <td>2</td>\n",
       "      <td>F</td>\n",
       "      <td>37</td>\n",
       "      <td>MAR</td>\n",
       "      <td>SPC</td>\n",
       "      <td>19588.0</td>\n",
       "      <td>12</td>\n",
       "      <td>1.43</td>\n",
       "      <td>0.718935</td>\n",
       "      <td>SCH</td>\n",
       "      <td>15000.0</td>\n",
       "      <td>0.0</td>\n",
       "      <td>0.0</td>\n",
       "    </tr>\n",
       "    <tr>\n",
       "      <th>2</th>\n",
       "      <td>3</td>\n",
       "      <td>F</td>\n",
       "      <td>28</td>\n",
       "      <td>UNM</td>\n",
       "      <td>SPC</td>\n",
       "      <td>53669.0</td>\n",
       "      <td>18</td>\n",
       "      <td>1.10</td>\n",
       "      <td>0.586015</td>\n",
       "      <td>GRD</td>\n",
       "      <td>70000.0</td>\n",
       "      <td>4.0</td>\n",
       "      <td>0.0</td>\n",
       "    </tr>\n",
       "    <tr>\n",
       "      <th>3</th>\n",
       "      <td>4</td>\n",
       "      <td>M</td>\n",
       "      <td>34</td>\n",
       "      <td>MAR</td>\n",
       "      <td>SPC</td>\n",
       "      <td>26349.0</td>\n",
       "      <td>10</td>\n",
       "      <td>1.43</td>\n",
       "      <td>0.655703</td>\n",
       "      <td>SCH</td>\n",
       "      <td>42500.0</td>\n",
       "      <td>4.0</td>\n",
       "      <td>0.0</td>\n",
       "    </tr>\n",
       "    <tr>\n",
       "      <th>4</th>\n",
       "      <td>5</td>\n",
       "      <td>F</td>\n",
       "      <td>43</td>\n",
       "      <td>MAR</td>\n",
       "      <td>UMN</td>\n",
       "      <td>11589.0</td>\n",
       "      <td>10</td>\n",
       "      <td>1.10</td>\n",
       "      <td>0.271893</td>\n",
       "      <td>GRD</td>\n",
       "      <td>20000.0</td>\n",
       "      <td>3.0</td>\n",
       "      <td>0.0</td>\n",
       "    </tr>\n",
       "  </tbody>\n",
       "</table>\n",
       "</div>"
      ],
      "text/plain": [
       "   client_id gender  age marital_status job_position  credit_sum  \\\n",
       "0          1      M   25            UNM          SPC     26389.0   \n",
       "1          2      F   37            MAR          SPC     19588.0   \n",
       "2          3      F   28            UNM          SPC     53669.0   \n",
       "3          4      M   34            MAR          SPC     26349.0   \n",
       "4          5      F   43            MAR          UMN     11589.0   \n",
       "\n",
       "   credit_month  tariff_id  score_shk education  monthly_income  credit_count  \\\n",
       "0            10       1.32   0.584105       SCH         35000.0           2.0   \n",
       "1            12       1.43   0.718935       SCH         15000.0           0.0   \n",
       "2            18       1.10   0.586015       GRD         70000.0           4.0   \n",
       "3            10       1.43   0.655703       SCH         42500.0           4.0   \n",
       "4            10       1.10   0.271893       GRD         20000.0           3.0   \n",
       "\n",
       "   overdue_credit_count  \n",
       "0                   0.0  \n",
       "1                   0.0  \n",
       "2                   0.0  \n",
       "3                   0.0  \n",
       "4                   0.0  "
      ]
     },
     "execution_count": 15,
     "metadata": {},
     "output_type": "execute_result"
    }
   ],
   "source": [
    "X_train.head()"
   ]
  },
  {
   "cell_type": "code",
   "execution_count": 16,
   "metadata": {},
   "outputs": [],
   "source": [
    "# https://pandas.pydata.org/pandas-docs/stable/generated/pandas.get_dummies.html\n",
    "X_train = pd.get_dummies(X_train, columns=cat_features)"
   ]
  },
  {
   "cell_type": "code",
   "execution_count": 17,
   "metadata": {},
   "outputs": [
    {
     "data": {
      "text/html": [
       "<div>\n",
       "<style scoped>\n",
       "    .dataframe tbody tr th:only-of-type {\n",
       "        vertical-align: middle;\n",
       "    }\n",
       "\n",
       "    .dataframe tbody tr th {\n",
       "        vertical-align: top;\n",
       "    }\n",
       "\n",
       "    .dataframe thead th {\n",
       "        text-align: right;\n",
       "    }\n",
       "</style>\n",
       "<table border=\"1\" class=\"dataframe\">\n",
       "  <thead>\n",
       "    <tr style=\"text-align: right;\">\n",
       "      <th></th>\n",
       "      <th>client_id</th>\n",
       "      <th>age</th>\n",
       "      <th>credit_sum</th>\n",
       "      <th>credit_month</th>\n",
       "      <th>score_shk</th>\n",
       "      <th>monthly_income</th>\n",
       "      <th>credit_count</th>\n",
       "      <th>overdue_credit_count</th>\n",
       "      <th>gender_F</th>\n",
       "      <th>gender_M</th>\n",
       "      <th>...</th>\n",
       "      <th>tariff_id_1.48</th>\n",
       "      <th>tariff_id_1.5</th>\n",
       "      <th>tariff_id_1.52</th>\n",
       "      <th>tariff_id_1.56</th>\n",
       "      <th>tariff_id_1.6</th>\n",
       "      <th>tariff_id_1.7</th>\n",
       "      <th>tariff_id_1.9</th>\n",
       "      <th>tariff_id_1.91</th>\n",
       "      <th>tariff_id_1.94</th>\n",
       "      <th>tariff_id_1.96</th>\n",
       "    </tr>\n",
       "  </thead>\n",
       "  <tbody>\n",
       "    <tr>\n",
       "      <th>0</th>\n",
       "      <td>1</td>\n",
       "      <td>25</td>\n",
       "      <td>26389.0</td>\n",
       "      <td>10</td>\n",
       "      <td>0.584105</td>\n",
       "      <td>35000.0</td>\n",
       "      <td>2.0</td>\n",
       "      <td>0.0</td>\n",
       "      <td>0</td>\n",
       "      <td>1</td>\n",
       "      <td>...</td>\n",
       "      <td>0</td>\n",
       "      <td>0</td>\n",
       "      <td>0</td>\n",
       "      <td>0</td>\n",
       "      <td>0</td>\n",
       "      <td>0</td>\n",
       "      <td>0</td>\n",
       "      <td>0</td>\n",
       "      <td>0</td>\n",
       "      <td>0</td>\n",
       "    </tr>\n",
       "    <tr>\n",
       "      <th>1</th>\n",
       "      <td>2</td>\n",
       "      <td>37</td>\n",
       "      <td>19588.0</td>\n",
       "      <td>12</td>\n",
       "      <td>0.718935</td>\n",
       "      <td>15000.0</td>\n",
       "      <td>0.0</td>\n",
       "      <td>0.0</td>\n",
       "      <td>1</td>\n",
       "      <td>0</td>\n",
       "      <td>...</td>\n",
       "      <td>0</td>\n",
       "      <td>0</td>\n",
       "      <td>0</td>\n",
       "      <td>0</td>\n",
       "      <td>0</td>\n",
       "      <td>0</td>\n",
       "      <td>0</td>\n",
       "      <td>0</td>\n",
       "      <td>0</td>\n",
       "      <td>0</td>\n",
       "    </tr>\n",
       "    <tr>\n",
       "      <th>2</th>\n",
       "      <td>3</td>\n",
       "      <td>28</td>\n",
       "      <td>53669.0</td>\n",
       "      <td>18</td>\n",
       "      <td>0.586015</td>\n",
       "      <td>70000.0</td>\n",
       "      <td>4.0</td>\n",
       "      <td>0.0</td>\n",
       "      <td>1</td>\n",
       "      <td>0</td>\n",
       "      <td>...</td>\n",
       "      <td>0</td>\n",
       "      <td>0</td>\n",
       "      <td>0</td>\n",
       "      <td>0</td>\n",
       "      <td>0</td>\n",
       "      <td>0</td>\n",
       "      <td>0</td>\n",
       "      <td>0</td>\n",
       "      <td>0</td>\n",
       "      <td>0</td>\n",
       "    </tr>\n",
       "    <tr>\n",
       "      <th>3</th>\n",
       "      <td>4</td>\n",
       "      <td>34</td>\n",
       "      <td>26349.0</td>\n",
       "      <td>10</td>\n",
       "      <td>0.655703</td>\n",
       "      <td>42500.0</td>\n",
       "      <td>4.0</td>\n",
       "      <td>0.0</td>\n",
       "      <td>0</td>\n",
       "      <td>1</td>\n",
       "      <td>...</td>\n",
       "      <td>0</td>\n",
       "      <td>0</td>\n",
       "      <td>0</td>\n",
       "      <td>0</td>\n",
       "      <td>0</td>\n",
       "      <td>0</td>\n",
       "      <td>0</td>\n",
       "      <td>0</td>\n",
       "      <td>0</td>\n",
       "      <td>0</td>\n",
       "    </tr>\n",
       "    <tr>\n",
       "      <th>4</th>\n",
       "      <td>5</td>\n",
       "      <td>43</td>\n",
       "      <td>11589.0</td>\n",
       "      <td>10</td>\n",
       "      <td>0.271893</td>\n",
       "      <td>20000.0</td>\n",
       "      <td>3.0</td>\n",
       "      <td>0.0</td>\n",
       "      <td>1</td>\n",
       "      <td>0</td>\n",
       "      <td>...</td>\n",
       "      <td>0</td>\n",
       "      <td>0</td>\n",
       "      <td>0</td>\n",
       "      <td>0</td>\n",
       "      <td>0</td>\n",
       "      <td>0</td>\n",
       "      <td>0</td>\n",
       "      <td>0</td>\n",
       "      <td>0</td>\n",
       "      <td>0</td>\n",
       "    </tr>\n",
       "  </tbody>\n",
       "</table>\n",
       "<p>5 rows × 68 columns</p>\n",
       "</div>"
      ],
      "text/plain": [
       "   client_id  age  credit_sum  credit_month  score_shk  monthly_income  \\\n",
       "0          1   25     26389.0            10   0.584105         35000.0   \n",
       "1          2   37     19588.0            12   0.718935         15000.0   \n",
       "2          3   28     53669.0            18   0.586015         70000.0   \n",
       "3          4   34     26349.0            10   0.655703         42500.0   \n",
       "4          5   43     11589.0            10   0.271893         20000.0   \n",
       "\n",
       "   credit_count  overdue_credit_count  gender_F  gender_M       ...        \\\n",
       "0           2.0                   0.0         0         1       ...         \n",
       "1           0.0                   0.0         1         0       ...         \n",
       "2           4.0                   0.0         1         0       ...         \n",
       "3           4.0                   0.0         0         1       ...         \n",
       "4           3.0                   0.0         1         0       ...         \n",
       "\n",
       "   tariff_id_1.48  tariff_id_1.5  tariff_id_1.52  tariff_id_1.56  \\\n",
       "0               0              0               0               0   \n",
       "1               0              0               0               0   \n",
       "2               0              0               0               0   \n",
       "3               0              0               0               0   \n",
       "4               0              0               0               0   \n",
       "\n",
       "   tariff_id_1.6  tariff_id_1.7  tariff_id_1.9  tariff_id_1.91  \\\n",
       "0              0              0              0               0   \n",
       "1              0              0              0               0   \n",
       "2              0              0              0               0   \n",
       "3              0              0              0               0   \n",
       "4              0              0              0               0   \n",
       "\n",
       "   tariff_id_1.94  tariff_id_1.96  \n",
       "0               0               0  \n",
       "1               0               0  \n",
       "2               0               0  \n",
       "3               0               0  \n",
       "4               0               0  \n",
       "\n",
       "[5 rows x 68 columns]"
      ]
     },
     "execution_count": 17,
     "metadata": {},
     "output_type": "execute_result"
    }
   ],
   "source": [
    "X_train.head()"
   ]
  },
  {
   "cell_type": "code",
   "execution_count": 18,
   "metadata": {},
   "outputs": [],
   "source": [
    "X_train.drop([\"gender_F\", \"client_id\"], axis=1, inplace=True)"
   ]
  },
  {
   "cell_type": "code",
   "execution_count": 19,
   "metadata": {},
   "outputs": [],
   "source": [
    "X_train[\"year_credit_sum\"] = X_train[\"credit_sum\"]/X_train[\"credit_month\"]"
   ]
  },
  {
   "cell_type": "markdown",
   "metadata": {},
   "source": [
    "## 3. Build the model"
   ]
  },
  {
   "cell_type": "code",
   "execution_count": 20,
   "metadata": {},
   "outputs": [
    {
     "name": "stderr",
     "output_type": "stream",
     "text": [
      "/anaconda3/lib/python3.6/site-packages/sklearn/cross_validation.py:41: DeprecationWarning: This module was deprecated in version 0.18 in favor of the model_selection module into which all the refactored classes and functions are moved. Also note that the interface of the new CV iterators are different from that of this module. This module will be removed in 0.20.\n",
      "  \"This module will be removed in 0.20.\", DeprecationWarning)\n",
      "/anaconda3/lib/python3.6/site-packages/sklearn/grid_search.py:42: DeprecationWarning: This module was deprecated in version 0.18 in favor of the model_selection module into which all the refactored classes and functions are moved. This module will be removed in 0.20.\n",
      "  DeprecationWarning)\n"
     ]
    }
   ],
   "source": [
    "from sklearn.ensemble import RandomForestClassifier, GradientBoostingClassifier\n",
    "import xgboost as xgb\n",
    "from sklearn.model_selection import cross_val_score\n",
    "from sklearn.metrics import roc_auc_score\n",
    "from sklearn.grid_search import GridSearchCV"
   ]
  },
  {
   "cell_type": "markdown",
   "metadata": {},
   "source": [
    "На каггле наши ответы будут оцениваться метрикой AUC ROC. "
   ]
  },
  {
   "cell_type": "markdown",
   "metadata": {},
   "source": [
    "Натренируем Random Forest"
   ]
  },
  {
   "cell_type": "code",
   "execution_count": 21,
   "metadata": {
    "scrolled": true
   },
   "outputs": [
    {
     "name": "stdout",
     "output_type": "stream",
     "text": [
      "Fitting 5 folds for each of 6 candidates, totalling 30 fits\n",
      "[CV] max_depth=None, n_estimators=10 .................................\n",
      "[CV] ........................ max_depth=None, n_estimators=10 -   1.6s\n",
      "[CV] max_depth=None, n_estimators=10 .................................\n"
     ]
    },
    {
     "name": "stderr",
     "output_type": "stream",
     "text": [
      "[Parallel(n_jobs=1)]: Done   1 out of   1 | elapsed:    1.6s remaining:    0.0s\n"
     ]
    },
    {
     "name": "stdout",
     "output_type": "stream",
     "text": [
      "[CV] ........................ max_depth=None, n_estimators=10 -   1.6s\n",
      "[CV] max_depth=None, n_estimators=10 .................................\n",
      "[CV] ........................ max_depth=None, n_estimators=10 -   1.6s\n",
      "[CV] max_depth=None, n_estimators=10 .................................\n",
      "[CV] ........................ max_depth=None, n_estimators=10 -   1.6s\n",
      "[CV] max_depth=None, n_estimators=10 .................................\n",
      "[CV] ........................ max_depth=None, n_estimators=10 -   1.6s\n",
      "[CV] max_depth=None, n_estimators=100 ................................\n",
      "[CV] ....................... max_depth=None, n_estimators=100 -  15.2s\n",
      "[CV] max_depth=None, n_estimators=100 ................................\n",
      "[CV] ....................... max_depth=None, n_estimators=100 -  15.6s\n",
      "[CV] max_depth=None, n_estimators=100 ................................\n",
      "[CV] ....................... max_depth=None, n_estimators=100 -  15.1s\n",
      "[CV] max_depth=None, n_estimators=100 ................................\n",
      "[CV] ....................... max_depth=None, n_estimators=100 -  15.4s\n",
      "[CV] max_depth=None, n_estimators=100 ................................\n",
      "[CV] ....................... max_depth=None, n_estimators=100 -  15.8s\n",
      "[CV] max_depth=3, n_estimators=10 ....................................\n",
      "[CV] ........................... max_depth=3, n_estimators=10 -   0.3s\n",
      "[CV] max_depth=3, n_estimators=10 ....................................\n",
      "[CV] ........................... max_depth=3, n_estimators=10 -   0.3s\n",
      "[CV] max_depth=3, n_estimators=10 ....................................\n",
      "[CV] ........................... max_depth=3, n_estimators=10 -   0.3s\n",
      "[CV] max_depth=3, n_estimators=10 ....................................\n",
      "[CV] ........................... max_depth=3, n_estimators=10 -   0.3s\n",
      "[CV] max_depth=3, n_estimators=10 ....................................\n",
      "[CV] ........................... max_depth=3, n_estimators=10 -   0.3s\n",
      "[CV] max_depth=3, n_estimators=100 ...................................\n",
      "[CV] .......................... max_depth=3, n_estimators=100 -   2.5s\n",
      "[CV] max_depth=3, n_estimators=100 ...................................\n",
      "[CV] .......................... max_depth=3, n_estimators=100 -   2.4s\n",
      "[CV] max_depth=3, n_estimators=100 ...................................\n",
      "[CV] .......................... max_depth=3, n_estimators=100 -   2.5s\n",
      "[CV] max_depth=3, n_estimators=100 ...................................\n",
      "[CV] .......................... max_depth=3, n_estimators=100 -   2.4s\n",
      "[CV] max_depth=3, n_estimators=100 ...................................\n",
      "[CV] .......................... max_depth=3, n_estimators=100 -   2.5s\n",
      "[CV] max_depth=9, n_estimators=10 ....................................\n",
      "[CV] ........................... max_depth=9, n_estimators=10 -   0.7s\n",
      "[CV] max_depth=9, n_estimators=10 ....................................\n",
      "[CV] ........................... max_depth=9, n_estimators=10 -   0.7s\n",
      "[CV] max_depth=9, n_estimators=10 ....................................\n",
      "[CV] ........................... max_depth=9, n_estimators=10 -   0.6s\n",
      "[CV] max_depth=9, n_estimators=10 ....................................\n",
      "[CV] ........................... max_depth=9, n_estimators=10 -   0.7s\n",
      "[CV] max_depth=9, n_estimators=10 ....................................\n",
      "[CV] ........................... max_depth=9, n_estimators=10 -   0.7s\n",
      "[CV] max_depth=9, n_estimators=100 ...................................\n",
      "[CV] .......................... max_depth=9, n_estimators=100 -   5.9s\n",
      "[CV] max_depth=9, n_estimators=100 ...................................\n",
      "[CV] .......................... max_depth=9, n_estimators=100 -   5.9s\n",
      "[CV] max_depth=9, n_estimators=100 ...................................\n",
      "[CV] .......................... max_depth=9, n_estimators=100 -   5.7s\n",
      "[CV] max_depth=9, n_estimators=100 ...................................\n",
      "[CV] .......................... max_depth=9, n_estimators=100 -   5.7s\n",
      "[CV] max_depth=9, n_estimators=100 ...................................\n",
      "[CV] .......................... max_depth=9, n_estimators=100 -   5.7s\n"
     ]
    },
    {
     "name": "stderr",
     "output_type": "stream",
     "text": [
      "[Parallel(n_jobs=1)]: Done  30 out of  30 | elapsed:  2.2min finished\n"
     ]
    },
    {
     "data": {
      "text/plain": [
       "({'max_depth': 9, 'n_estimators': 100}, 0.742147069728247)"
      ]
     },
     "execution_count": 21,
     "metadata": {},
     "output_type": "execute_result"
    }
   ],
   "source": [
    "rf = RandomForestClassifier()\n",
    "\n",
    "params = {\n",
    "    'n_estimators' : [10, 100],\n",
    "    'max_depth' : [None, 3, 9],\n",
    "    \n",
    "}\n",
    "\n",
    "gsv_rf = GridSearchCV(rf, param_grid=params, scoring='roc_auc', cv=5, verbose=2)\n",
    "gsv_rf.fit(X_train, y_train)\n",
    "gsv_rf.best_params_, gsv_rf.best_score_"
   ]
  },
  {
   "cell_type": "markdown",
   "metadata": {},
   "source": [
    "XGBoost с оберткой над sklearn:"
   ]
  },
  {
   "cell_type": "code",
   "execution_count": 57,
   "metadata": {
    "collapsed": true
   },
   "outputs": [
    {
     "name": "stdout",
     "output_type": "stream",
     "text": [
      "Fitting 5 folds for each of 8 candidates, totalling 40 fits\n"
     ]
    },
    {
     "name": "stderr",
     "output_type": "stream",
     "text": [
      "[Parallel(n_jobs=1)]: Done  40 out of  40 | elapsed: 20.8min finished\n"
     ]
    },
    {
     "data": {
      "text/plain": [
       "({'max_depth': 5, 'n_estimators': 100}, 0.7530697314352183)"
      ]
     },
     "execution_count": 57,
     "metadata": {},
     "output_type": "execute_result"
    }
   ],
   "source": [
    "import xgboost as xgb\n",
    "\n",
    "clf = xgb.XGBClassifier(n_jobs=-1)\n",
    "params = {\n",
    "    'n_estimators' : [10, 50, 100, 500],\n",
    "    'max_depth' : [3, 5],\n",
    "}\n",
    "\n",
    "gsv_xgb = GridSearchCV(clf, param_grid=params, scoring='roc_auc', cv=5, verbose=1)\n",
    "gsv_xgb.fit(X_train, y_train)\n",
    "gsv_xgb.best_params_, gsv_xgb.best_score_"
   ]
  },
  {
   "cell_type": "markdown",
   "metadata": {},
   "source": [
    "XGBoost без обертки"
   ]
  },
  {
   "cell_type": "code",
   "execution_count": 100,
   "metadata": {
    "collapsed": true
   },
   "outputs": [
    {
     "name": "stdout",
     "output_type": "stream",
     "text": [
      "[18:04:58] src/tree/updater_prune.cc:74: tree pruning end, 1 roots, 14 extra nodes, 0 pruned nodes, max_depth=3\n",
      "[0]\ttrain-auc:0.667229\tvalid-auc:0.66784\n",
      "Multiple eval metrics have been passed: 'valid-auc' will be used for early stopping.\n",
      "\n",
      "Will train until valid-auc hasn't improved in 2 rounds.\n",
      "[18:04:58] src/tree/updater_prune.cc:74: tree pruning end, 1 roots, 14 extra nodes, 0 pruned nodes, max_depth=3\n",
      "[1]\ttrain-auc:0.683364\tvalid-auc:0.682402\n",
      "[18:04:58] src/tree/updater_prune.cc:74: tree pruning end, 1 roots, 14 extra nodes, 0 pruned nodes, max_depth=3\n",
      "[2]\ttrain-auc:0.698822\tvalid-auc:0.698966\n",
      "[18:04:58] src/tree/updater_prune.cc:74: tree pruning end, 1 roots, 14 extra nodes, 0 pruned nodes, max_depth=3\n",
      "[3]\ttrain-auc:0.712274\tvalid-auc:0.712276\n",
      "[18:04:58] src/tree/updater_prune.cc:74: tree pruning end, 1 roots, 14 extra nodes, 0 pruned nodes, max_depth=3\n",
      "[4]\ttrain-auc:0.715483\tvalid-auc:0.714154\n",
      "[18:04:58] src/tree/updater_prune.cc:74: tree pruning end, 1 roots, 14 extra nodes, 0 pruned nodes, max_depth=3\n",
      "[5]\ttrain-auc:0.721638\tvalid-auc:0.720415\n",
      "[18:04:59] src/tree/updater_prune.cc:74: tree pruning end, 1 roots, 14 extra nodes, 0 pruned nodes, max_depth=3\n",
      "[6]\ttrain-auc:0.728434\tvalid-auc:0.726668\n",
      "[18:04:59] src/tree/updater_prune.cc:74: tree pruning end, 1 roots, 14 extra nodes, 0 pruned nodes, max_depth=3\n",
      "[7]\ttrain-auc:0.731027\tvalid-auc:0.729587\n",
      "[18:04:59] src/tree/updater_prune.cc:74: tree pruning end, 1 roots, 14 extra nodes, 0 pruned nodes, max_depth=3\n",
      "[8]\ttrain-auc:0.733879\tvalid-auc:0.733187\n",
      "[18:04:59] src/tree/updater_prune.cc:74: tree pruning end, 1 roots, 14 extra nodes, 0 pruned nodes, max_depth=3\n",
      "[9]\ttrain-auc:0.737138\tvalid-auc:0.735872\n",
      "[18:04:59] src/tree/updater_prune.cc:74: tree pruning end, 1 roots, 14 extra nodes, 0 pruned nodes, max_depth=3\n",
      "[10]\ttrain-auc:0.738925\tvalid-auc:0.738227\n",
      "[18:04:59] src/tree/updater_prune.cc:74: tree pruning end, 1 roots, 14 extra nodes, 0 pruned nodes, max_depth=3\n",
      "[11]\ttrain-auc:0.739076\tvalid-auc:0.738107\n",
      "[18:05:00] src/tree/updater_prune.cc:74: tree pruning end, 1 roots, 14 extra nodes, 0 pruned nodes, max_depth=3\n",
      "[12]\ttrain-auc:0.740378\tvalid-auc:0.738993\n",
      "[18:05:00] src/tree/updater_prune.cc:74: tree pruning end, 1 roots, 14 extra nodes, 0 pruned nodes, max_depth=3\n",
      "[13]\ttrain-auc:0.741895\tvalid-auc:0.739632\n",
      "[18:05:00] src/tree/updater_prune.cc:74: tree pruning end, 1 roots, 14 extra nodes, 0 pruned nodes, max_depth=3\n",
      "[14]\ttrain-auc:0.743739\tvalid-auc:0.7416\n",
      "[18:05:00] src/tree/updater_prune.cc:74: tree pruning end, 1 roots, 14 extra nodes, 0 pruned nodes, max_depth=3\n",
      "[15]\ttrain-auc:0.744885\tvalid-auc:0.742783\n",
      "[18:05:00] src/tree/updater_prune.cc:74: tree pruning end, 1 roots, 14 extra nodes, 0 pruned nodes, max_depth=3\n",
      "[16]\ttrain-auc:0.745953\tvalid-auc:0.744124\n",
      "[18:05:00] src/tree/updater_prune.cc:74: tree pruning end, 1 roots, 14 extra nodes, 0 pruned nodes, max_depth=3\n",
      "[17]\ttrain-auc:0.746651\tvalid-auc:0.744172\n",
      "[18:05:00] src/tree/updater_prune.cc:74: tree pruning end, 1 roots, 14 extra nodes, 0 pruned nodes, max_depth=3\n",
      "[18]\ttrain-auc:0.747387\tvalid-auc:0.744827\n",
      "[18:05:01] src/tree/updater_prune.cc:74: tree pruning end, 1 roots, 14 extra nodes, 0 pruned nodes, max_depth=3\n",
      "[19]\ttrain-auc:0.748889\tvalid-auc:0.745822\n",
      "[18:05:01] src/tree/updater_prune.cc:74: tree pruning end, 1 roots, 14 extra nodes, 0 pruned nodes, max_depth=3\n",
      "[20]\ttrain-auc:0.749337\tvalid-auc:0.746694\n",
      "[18:05:01] src/tree/updater_prune.cc:74: tree pruning end, 1 roots, 14 extra nodes, 0 pruned nodes, max_depth=3\n",
      "[21]\ttrain-auc:0.750204\tvalid-auc:0.747292\n",
      "[18:05:01] src/tree/updater_prune.cc:74: tree pruning end, 1 roots, 14 extra nodes, 0 pruned nodes, max_depth=3\n",
      "[22]\ttrain-auc:0.750899\tvalid-auc:0.747602\n",
      "[18:05:01] src/tree/updater_prune.cc:74: tree pruning end, 1 roots, 12 extra nodes, 0 pruned nodes, max_depth=3\n",
      "[23]\ttrain-auc:0.751564\tvalid-auc:0.747815\n",
      "[18:05:01] src/tree/updater_prune.cc:74: tree pruning end, 1 roots, 14 extra nodes, 0 pruned nodes, max_depth=3\n",
      "[24]\ttrain-auc:0.752282\tvalid-auc:0.748495\n",
      "[18:05:02] src/tree/updater_prune.cc:74: tree pruning end, 1 roots, 14 extra nodes, 0 pruned nodes, max_depth=3\n",
      "[25]\ttrain-auc:0.752952\tvalid-auc:0.749394\n",
      "[18:05:02] src/tree/updater_prune.cc:74: tree pruning end, 1 roots, 14 extra nodes, 0 pruned nodes, max_depth=3\n",
      "[26]\ttrain-auc:0.75362\tvalid-auc:0.749606\n",
      "[18:05:02] src/tree/updater_prune.cc:74: tree pruning end, 1 roots, 14 extra nodes, 0 pruned nodes, max_depth=3\n",
      "[27]\ttrain-auc:0.754141\tvalid-auc:0.74992\n",
      "[18:05:02] src/tree/updater_prune.cc:74: tree pruning end, 1 roots, 14 extra nodes, 0 pruned nodes, max_depth=3\n",
      "[28]\ttrain-auc:0.754803\tvalid-auc:0.75048\n",
      "[18:05:02] src/tree/updater_prune.cc:74: tree pruning end, 1 roots, 14 extra nodes, 0 pruned nodes, max_depth=3\n",
      "[29]\ttrain-auc:0.755574\tvalid-auc:0.750679\n",
      "[18:05:02] src/tree/updater_prune.cc:74: tree pruning end, 1 roots, 12 extra nodes, 0 pruned nodes, max_depth=3\n",
      "[30]\ttrain-auc:0.755751\tvalid-auc:0.750834\n",
      "[18:05:03] src/tree/updater_prune.cc:74: tree pruning end, 1 roots, 14 extra nodes, 0 pruned nodes, max_depth=3\n",
      "[31]\ttrain-auc:0.755996\tvalid-auc:0.75093\n",
      "[18:05:03] src/tree/updater_prune.cc:74: tree pruning end, 1 roots, 14 extra nodes, 0 pruned nodes, max_depth=3\n",
      "[32]\ttrain-auc:0.75653\tvalid-auc:0.751531\n",
      "[18:05:03] src/tree/updater_prune.cc:74: tree pruning end, 1 roots, 14 extra nodes, 0 pruned nodes, max_depth=3\n",
      "[33]\ttrain-auc:0.756842\tvalid-auc:0.751828\n",
      "[18:05:03] src/tree/updater_prune.cc:74: tree pruning end, 1 roots, 14 extra nodes, 0 pruned nodes, max_depth=3\n",
      "[34]\ttrain-auc:0.757509\tvalid-auc:0.752337\n",
      "[18:05:03] src/tree/updater_prune.cc:74: tree pruning end, 1 roots, 14 extra nodes, 0 pruned nodes, max_depth=3\n",
      "[35]\ttrain-auc:0.757978\tvalid-auc:0.752295\n",
      "[18:05:03] src/tree/updater_prune.cc:74: tree pruning end, 1 roots, 14 extra nodes, 0 pruned nodes, max_depth=3\n",
      "[36]\ttrain-auc:0.758297\tvalid-auc:0.75235\n",
      "[18:05:04] src/tree/updater_prune.cc:74: tree pruning end, 1 roots, 14 extra nodes, 0 pruned nodes, max_depth=3\n",
      "[37]\ttrain-auc:0.758612\tvalid-auc:0.752283\n",
      "[18:05:04] src/tree/updater_prune.cc:74: tree pruning end, 1 roots, 14 extra nodes, 0 pruned nodes, max_depth=3\n",
      "[38]\ttrain-auc:0.75884\tvalid-auc:0.752321\n",
      "Stopping. Best iteration:\n",
      "[36]\ttrain-auc:0.758297\tvalid-auc:0.75235\n",
      "\n"
     ]
    }
   ],
   "source": [
    "dtrain = xgb.DMatrix(X_train[:4*len(X_train)//5], y_train[:4*len(X_train)//5])\n",
    "dvalid = xgb.DMatrix(X_train[4*len(X_train)//5:], y_train[4*len(X_train)//5:])\n",
    "\n",
    "params = {\n",
    "    'n_estimators' : 1000,\n",
    "    'max_depth' : 3,\n",
    "    'eval_metric': 'auc'\n",
    "}\n",
    "\n",
    "watchlist = [(dtrain, 'train'), (dvalid, 'valid')]\n",
    "bst = xgb.train(params, dtrain, 1000, evals = watchlist, \n",
    "    early_stopping_rounds=2,verbose_eval=1,\n",
    "    maximize=True)"
   ]
  },
  {
   "cell_type": "markdown",
   "metadata": {},
   "source": [
    "Натренируем на всех примерах:"
   ]
  },
  {
   "cell_type": "code",
   "execution_count": 24,
   "metadata": {},
   "outputs": [
    {
     "data": {
      "text/plain": [
       "RandomForestClassifier(bootstrap=True, class_weight=None, criterion='gini',\n",
       "            max_depth=9, max_features='auto', max_leaf_nodes=None,\n",
       "            min_impurity_decrease=0.0, min_impurity_split=None,\n",
       "            min_samples_leaf=1, min_samples_split=2,\n",
       "            min_weight_fraction_leaf=0.0, n_estimators=100, n_jobs=1,\n",
       "            oob_score=False, random_state=None, verbose=0,\n",
       "            warm_start=False)"
      ]
     },
     "execution_count": 24,
     "metadata": {},
     "output_type": "execute_result"
    }
   ],
   "source": [
    "rf = RandomForestClassifier(n_estimators=100, max_depth=9)\n",
    "rf.fit(X_train, y_train)"
   ]
  },
  {
   "cell_type": "markdown",
   "metadata": {},
   "source": [
    "## 4. Process test data"
   ]
  },
  {
   "cell_type": "code",
   "execution_count": 57,
   "metadata": {},
   "outputs": [
    {
     "data": {
      "text/html": [
       "<div>\n",
       "<style scoped>\n",
       "    .dataframe tbody tr th:only-of-type {\n",
       "        vertical-align: middle;\n",
       "    }\n",
       "\n",
       "    .dataframe tbody tr th {\n",
       "        vertical-align: top;\n",
       "    }\n",
       "\n",
       "    .dataframe thead th {\n",
       "        text-align: right;\n",
       "    }\n",
       "</style>\n",
       "<table border=\"1\" class=\"dataframe\">\n",
       "  <thead>\n",
       "    <tr style=\"text-align: right;\">\n",
       "      <th></th>\n",
       "      <th>client_id</th>\n",
       "      <th>gender</th>\n",
       "      <th>age</th>\n",
       "      <th>marital_status</th>\n",
       "      <th>job_position</th>\n",
       "      <th>credit_sum</th>\n",
       "      <th>credit_month</th>\n",
       "      <th>tariff_id</th>\n",
       "      <th>score_shk</th>\n",
       "      <th>education</th>\n",
       "      <th>living_region</th>\n",
       "      <th>monthly_income</th>\n",
       "      <th>credit_count</th>\n",
       "      <th>overdue_credit_count</th>\n",
       "    </tr>\n",
       "  </thead>\n",
       "  <tbody>\n",
       "    <tr>\n",
       "      <th>0</th>\n",
       "      <td>119519</td>\n",
       "      <td>F</td>\n",
       "      <td>24</td>\n",
       "      <td>MAR</td>\n",
       "      <td>SPC</td>\n",
       "      <td>28429.0</td>\n",
       "      <td>18</td>\n",
       "      <td>1.10</td>\n",
       "      <td>0.593836</td>\n",
       "      <td>GRD</td>\n",
       "      <td>ОБЛ ИРКУТСКАЯ</td>\n",
       "      <td>33000.0</td>\n",
       "      <td>3.0</td>\n",
       "      <td>0.0</td>\n",
       "    </tr>\n",
       "    <tr>\n",
       "      <th>1</th>\n",
       "      <td>119520</td>\n",
       "      <td>M</td>\n",
       "      <td>25</td>\n",
       "      <td>UNM</td>\n",
       "      <td>SPC</td>\n",
       "      <td>15997.0</td>\n",
       "      <td>10</td>\n",
       "      <td>1.60</td>\n",
       "      <td>0.615015</td>\n",
       "      <td>SCH</td>\n",
       "      <td>УЛЬЯНОВСКАЯ ОБЛ</td>\n",
       "      <td>35000.0</td>\n",
       "      <td>2.0</td>\n",
       "      <td>0.0</td>\n",
       "    </tr>\n",
       "    <tr>\n",
       "      <th>2</th>\n",
       "      <td>119521</td>\n",
       "      <td>M</td>\n",
       "      <td>25</td>\n",
       "      <td>UNM</td>\n",
       "      <td>SPC</td>\n",
       "      <td>11043.0</td>\n",
       "      <td>10</td>\n",
       "      <td>1.16</td>\n",
       "      <td>0.666758</td>\n",
       "      <td>SCH</td>\n",
       "      <td>РЕСП БАШКОРТОСТАН</td>\n",
       "      <td>25000.0</td>\n",
       "      <td>3.0</td>\n",
       "      <td>0.0</td>\n",
       "    </tr>\n",
       "    <tr>\n",
       "      <th>3</th>\n",
       "      <td>119522</td>\n",
       "      <td>F</td>\n",
       "      <td>34</td>\n",
       "      <td>MAR</td>\n",
       "      <td>SPC</td>\n",
       "      <td>14617.0</td>\n",
       "      <td>10</td>\n",
       "      <td>1.40</td>\n",
       "      <td>0.447745</td>\n",
       "      <td>GRD</td>\n",
       "      <td>ПЕНЗЕНСКАЯ ОБЛ</td>\n",
       "      <td>15000.0</td>\n",
       "      <td>2.0</td>\n",
       "      <td>0.0</td>\n",
       "    </tr>\n",
       "    <tr>\n",
       "      <th>4</th>\n",
       "      <td>119523</td>\n",
       "      <td>M</td>\n",
       "      <td>33</td>\n",
       "      <td>MAR</td>\n",
       "      <td>SPC</td>\n",
       "      <td>38147.0</td>\n",
       "      <td>12</td>\n",
       "      <td>1.60</td>\n",
       "      <td>0.706974</td>\n",
       "      <td>UGR</td>\n",
       "      <td>ОБЛ МОСКОВСКАЯ</td>\n",
       "      <td>55000.0</td>\n",
       "      <td>1.0</td>\n",
       "      <td>0.0</td>\n",
       "    </tr>\n",
       "  </tbody>\n",
       "</table>\n",
       "</div>"
      ],
      "text/plain": [
       "   client_id gender  age marital_status job_position  credit_sum  \\\n",
       "0     119519      F   24            MAR          SPC     28429.0   \n",
       "1     119520      M   25            UNM          SPC     15997.0   \n",
       "2     119521      M   25            UNM          SPC     11043.0   \n",
       "3     119522      F   34            MAR          SPC     14617.0   \n",
       "4     119523      M   33            MAR          SPC     38147.0   \n",
       "\n",
       "   credit_month  tariff_id  score_shk education      living_region  \\\n",
       "0            18       1.10   0.593836       GRD      ОБЛ ИРКУТСКАЯ   \n",
       "1            10       1.60   0.615015       SCH    УЛЬЯНОВСКАЯ ОБЛ   \n",
       "2            10       1.16   0.666758       SCH  РЕСП БАШКОРТОСТАН   \n",
       "3            10       1.40   0.447745       GRD     ПЕНЗЕНСКАЯ ОБЛ   \n",
       "4            12       1.60   0.706974       UGR     ОБЛ МОСКОВСКАЯ   \n",
       "\n",
       "   monthly_income  credit_count  overdue_credit_count  \n",
       "0         33000.0           3.0                   0.0  \n",
       "1         35000.0           2.0                   0.0  \n",
       "2         25000.0           3.0                   0.0  \n",
       "3         15000.0           2.0                   0.0  \n",
       "4         55000.0           1.0                   0.0  "
      ]
     },
     "execution_count": 57,
     "metadata": {},
     "output_type": "execute_result"
    }
   ],
   "source": [
    "X_test = pd.read_csv(\"test.csv\")\n",
    "X_test.head()"
   ]
  },
  {
   "cell_type": "code",
   "execution_count": 58,
   "metadata": {},
   "outputs": [],
   "source": [
    "ids = X_test['client_id']"
   ]
  },
  {
   "cell_type": "markdown",
   "metadata": {},
   "source": [
    "Нам нужно предобработать тестовые данные точно так же, как тренировочные, чтобы можно было засовывать их в модели, обученные на тренировочных данных. "
   ]
  },
  {
   "cell_type": "code",
   "execution_count": 59,
   "metadata": {},
   "outputs": [
    {
     "data": {
      "text/plain": [
       "client_id               False\n",
       "gender                  False\n",
       "age                     False\n",
       "marital_status          False\n",
       "job_position            False\n",
       "credit_sum              False\n",
       "credit_month            False\n",
       "tariff_id               False\n",
       "score_shk               False\n",
       "education               False\n",
       "living_region            True\n",
       "monthly_income           True\n",
       "credit_count             True\n",
       "overdue_credit_count     True\n",
       "dtype: bool"
      ]
     },
     "execution_count": 59,
     "metadata": {},
     "output_type": "execute_result"
    }
   ],
   "source": [
    "X_test.isna().any()"
   ]
  },
  {
   "cell_type": "code",
   "execution_count": 60,
   "metadata": {},
   "outputs": [],
   "source": [
    "X_test.drop(\"living_region\", axis=1, inplace=True)"
   ]
  },
  {
   "cell_type": "code",
   "execution_count": 61,
   "metadata": {},
   "outputs": [],
   "source": [
    "X_test[\"monthly_income\"].fillna(X_train[\"monthly_income\"].median(), inplace=True)\n",
    "X_test[\"credit_count\"].fillna(0., inplace=True)\n",
    "X_test[\"overdue_credit_count\"].fillna(0., inplace=True)"
   ]
  },
  {
   "cell_type": "code",
   "execution_count": 62,
   "metadata": {},
   "outputs": [],
   "source": [
    "X_test = pd.get_dummies(X_test, columns=cat_features)"
   ]
  },
  {
   "cell_type": "code",
   "execution_count": 63,
   "metadata": {},
   "outputs": [
    {
     "data": {
      "text/html": [
       "<div>\n",
       "<style scoped>\n",
       "    .dataframe tbody tr th:only-of-type {\n",
       "        vertical-align: middle;\n",
       "    }\n",
       "\n",
       "    .dataframe tbody tr th {\n",
       "        vertical-align: top;\n",
       "    }\n",
       "\n",
       "    .dataframe thead th {\n",
       "        text-align: right;\n",
       "    }\n",
       "</style>\n",
       "<table border=\"1\" class=\"dataframe\">\n",
       "  <thead>\n",
       "    <tr style=\"text-align: right;\">\n",
       "      <th></th>\n",
       "      <th>client_id</th>\n",
       "      <th>age</th>\n",
       "      <th>credit_sum</th>\n",
       "      <th>credit_month</th>\n",
       "      <th>score_shk</th>\n",
       "      <th>monthly_income</th>\n",
       "      <th>credit_count</th>\n",
       "      <th>overdue_credit_count</th>\n",
       "      <th>gender_F</th>\n",
       "      <th>gender_M</th>\n",
       "      <th>...</th>\n",
       "      <th>tariff_id_1.43</th>\n",
       "      <th>tariff_id_1.44</th>\n",
       "      <th>tariff_id_1.48</th>\n",
       "      <th>tariff_id_1.5</th>\n",
       "      <th>tariff_id_1.52</th>\n",
       "      <th>tariff_id_1.6</th>\n",
       "      <th>tariff_id_1.7</th>\n",
       "      <th>tariff_id_1.9</th>\n",
       "      <th>tariff_id_1.91</th>\n",
       "      <th>tariff_id_1.94</th>\n",
       "    </tr>\n",
       "  </thead>\n",
       "  <tbody>\n",
       "    <tr>\n",
       "      <th>0</th>\n",
       "      <td>119519</td>\n",
       "      <td>24</td>\n",
       "      <td>28429.0</td>\n",
       "      <td>18</td>\n",
       "      <td>0.593836</td>\n",
       "      <td>33000.0</td>\n",
       "      <td>3.0</td>\n",
       "      <td>0.0</td>\n",
       "      <td>1</td>\n",
       "      <td>0</td>\n",
       "      <td>...</td>\n",
       "      <td>0</td>\n",
       "      <td>0</td>\n",
       "      <td>0</td>\n",
       "      <td>0</td>\n",
       "      <td>0</td>\n",
       "      <td>0</td>\n",
       "      <td>0</td>\n",
       "      <td>0</td>\n",
       "      <td>0</td>\n",
       "      <td>0</td>\n",
       "    </tr>\n",
       "    <tr>\n",
       "      <th>1</th>\n",
       "      <td>119520</td>\n",
       "      <td>25</td>\n",
       "      <td>15997.0</td>\n",
       "      <td>10</td>\n",
       "      <td>0.615015</td>\n",
       "      <td>35000.0</td>\n",
       "      <td>2.0</td>\n",
       "      <td>0.0</td>\n",
       "      <td>0</td>\n",
       "      <td>1</td>\n",
       "      <td>...</td>\n",
       "      <td>0</td>\n",
       "      <td>0</td>\n",
       "      <td>0</td>\n",
       "      <td>0</td>\n",
       "      <td>0</td>\n",
       "      <td>1</td>\n",
       "      <td>0</td>\n",
       "      <td>0</td>\n",
       "      <td>0</td>\n",
       "      <td>0</td>\n",
       "    </tr>\n",
       "    <tr>\n",
       "      <th>2</th>\n",
       "      <td>119521</td>\n",
       "      <td>25</td>\n",
       "      <td>11043.0</td>\n",
       "      <td>10</td>\n",
       "      <td>0.666758</td>\n",
       "      <td>25000.0</td>\n",
       "      <td>3.0</td>\n",
       "      <td>0.0</td>\n",
       "      <td>0</td>\n",
       "      <td>1</td>\n",
       "      <td>...</td>\n",
       "      <td>0</td>\n",
       "      <td>0</td>\n",
       "      <td>0</td>\n",
       "      <td>0</td>\n",
       "      <td>0</td>\n",
       "      <td>0</td>\n",
       "      <td>0</td>\n",
       "      <td>0</td>\n",
       "      <td>0</td>\n",
       "      <td>0</td>\n",
       "    </tr>\n",
       "    <tr>\n",
       "      <th>3</th>\n",
       "      <td>119522</td>\n",
       "      <td>34</td>\n",
       "      <td>14617.0</td>\n",
       "      <td>10</td>\n",
       "      <td>0.447745</td>\n",
       "      <td>15000.0</td>\n",
       "      <td>2.0</td>\n",
       "      <td>0.0</td>\n",
       "      <td>1</td>\n",
       "      <td>0</td>\n",
       "      <td>...</td>\n",
       "      <td>0</td>\n",
       "      <td>0</td>\n",
       "      <td>0</td>\n",
       "      <td>0</td>\n",
       "      <td>0</td>\n",
       "      <td>0</td>\n",
       "      <td>0</td>\n",
       "      <td>0</td>\n",
       "      <td>0</td>\n",
       "      <td>0</td>\n",
       "    </tr>\n",
       "    <tr>\n",
       "      <th>4</th>\n",
       "      <td>119523</td>\n",
       "      <td>33</td>\n",
       "      <td>38147.0</td>\n",
       "      <td>12</td>\n",
       "      <td>0.706974</td>\n",
       "      <td>55000.0</td>\n",
       "      <td>1.0</td>\n",
       "      <td>0.0</td>\n",
       "      <td>0</td>\n",
       "      <td>1</td>\n",
       "      <td>...</td>\n",
       "      <td>0</td>\n",
       "      <td>0</td>\n",
       "      <td>0</td>\n",
       "      <td>0</td>\n",
       "      <td>0</td>\n",
       "      <td>1</td>\n",
       "      <td>0</td>\n",
       "      <td>0</td>\n",
       "      <td>0</td>\n",
       "      <td>0</td>\n",
       "    </tr>\n",
       "  </tbody>\n",
       "</table>\n",
       "<p>5 rows × 64 columns</p>\n",
       "</div>"
      ],
      "text/plain": [
       "   client_id  age  credit_sum  credit_month  score_shk  monthly_income  \\\n",
       "0     119519   24     28429.0            18   0.593836         33000.0   \n",
       "1     119520   25     15997.0            10   0.615015         35000.0   \n",
       "2     119521   25     11043.0            10   0.666758         25000.0   \n",
       "3     119522   34     14617.0            10   0.447745         15000.0   \n",
       "4     119523   33     38147.0            12   0.706974         55000.0   \n",
       "\n",
       "   credit_count  overdue_credit_count  gender_F  gender_M       ...        \\\n",
       "0           3.0                   0.0         1         0       ...         \n",
       "1           2.0                   0.0         0         1       ...         \n",
       "2           3.0                   0.0         0         1       ...         \n",
       "3           2.0                   0.0         1         0       ...         \n",
       "4           1.0                   0.0         0         1       ...         \n",
       "\n",
       "   tariff_id_1.43  tariff_id_1.44  tariff_id_1.48  tariff_id_1.5  \\\n",
       "0               0               0               0              0   \n",
       "1               0               0               0              0   \n",
       "2               0               0               0              0   \n",
       "3               0               0               0              0   \n",
       "4               0               0               0              0   \n",
       "\n",
       "   tariff_id_1.52  tariff_id_1.6  tariff_id_1.7  tariff_id_1.9  \\\n",
       "0               0              0              0              0   \n",
       "1               0              1              0              0   \n",
       "2               0              0              0              0   \n",
       "3               0              0              0              0   \n",
       "4               0              1              0              0   \n",
       "\n",
       "   tariff_id_1.91  tariff_id_1.94  \n",
       "0               0               0  \n",
       "1               0               0  \n",
       "2               0               0  \n",
       "3               0               0  \n",
       "4               0               0  \n",
       "\n",
       "[5 rows x 64 columns]"
      ]
     },
     "execution_count": 63,
     "metadata": {},
     "output_type": "execute_result"
    }
   ],
   "source": [
    "X_test.head()"
   ]
  },
  {
   "cell_type": "code",
   "execution_count": 64,
   "metadata": {},
   "outputs": [],
   "source": [
    "X_test.drop(\"gender_F\", axis=1, inplace=True)"
   ]
  },
  {
   "cell_type": "code",
   "execution_count": 65,
   "metadata": {},
   "outputs": [],
   "source": [
    "X_test[\"year_credit_sum\"] = X_test[\"credit_sum\"]/X_test[\"credit_month\"]"
   ]
  },
  {
   "cell_type": "code",
   "execution_count": 66,
   "metadata": {},
   "outputs": [],
   "source": [
    "test_columns = [column for column in X_train.columns if column in X_test.columns]\n",
    "X_test = X_test[test_columns]"
   ]
  },
  {
   "cell_type": "markdown",
   "metadata": {},
   "source": [
    "Выделим колонки, которых нет в X_test, но есть в X_train"
   ]
  },
  {
   "cell_type": "code",
   "execution_count": 67,
   "metadata": {},
   "outputs": [
    {
     "data": {
      "text/plain": [
       "['tariff_id_1.27', 'tariff_id_1.29', 'tariff_id_1.56', 'tariff_id_1.96']"
      ]
     },
     "execution_count": 67,
     "metadata": {},
     "output_type": "execute_result"
    }
   ],
   "source": [
    "missing_columns = [column for column in X_train.columns if column not in X_test.columns]\n",
    "missing_columns"
   ]
  },
  {
   "cell_type": "code",
   "execution_count": 68,
   "metadata": {},
   "outputs": [],
   "source": [
    "for column in missing_columns:\n",
    "    X_test[column] = np.zeros(len(X_test))"
   ]
  },
  {
   "cell_type": "markdown",
   "metadata": {},
   "source": [
    "## 5. Get file with answers"
   ]
  },
  {
   "cell_type": "markdown",
   "metadata": {},
   "source": [
    "Для roc auc нужны предсказания **вероятностей** классов (точнее, первого класса -- единицы), а не просто 0 или 1. Поэтому для моделей из sklearn нужно мспользовать .predict_proba(), чтобы получить вероятности:"
   ]
  },
  {
   "cell_type": "code",
   "execution_count": 97,
   "metadata": {},
   "outputs": [],
   "source": [
    "# получим предсказания Random Forest\n",
    "preds = rf.predict_proba(X_test[X_train.columns])[:, 1]"
   ]
  },
  {
   "cell_type": "code",
   "execution_count": 98,
   "metadata": {},
   "outputs": [
    {
     "data": {
      "text/plain": [
       "0.17651704644587662"
      ]
     },
     "execution_count": 98,
     "metadata": {},
     "output_type": "execute_result"
    }
   ],
   "source": [
    "preds.mean()"
   ]
  },
  {
   "cell_type": "markdown",
   "metadata": {},
   "source": [
    "А xgboost, который не обернут в sklearn, выдает вероятности принадлежности 1 классу просто с помощью .predict():"
   ]
  },
  {
   "cell_type": "code",
   "execution_count": 101,
   "metadata": {},
   "outputs": [],
   "source": [
    "dtest = xgb.DMatrix(X_test[X_train.columns])\n",
    "preds = bst.predict(dtest)"
   ]
  },
  {
   "cell_type": "code",
   "execution_count": 102,
   "metadata": {},
   "outputs": [
    {
     "data": {
      "text/plain": [
       "array([0.2528119 , 0.16468456, 0.24838322, ..., 0.08100763, 0.04488313,\n",
       "       0.17579028], dtype=float32)"
      ]
     },
     "execution_count": 102,
     "metadata": {},
     "output_type": "execute_result"
    }
   ],
   "source": [
    "preds"
   ]
  },
  {
   "cell_type": "code",
   "execution_count": 103,
   "metadata": {},
   "outputs": [],
   "source": [
    "X_test['client_id'] = ids\n",
    "X_test['open_account_flg'] = preds"
   ]
  },
  {
   "cell_type": "code",
   "execution_count": 104,
   "metadata": {},
   "outputs": [],
   "source": [
    "X_test[['client_id', 'open_account_flg']].to_csv(\"sampleSubmission.csv\", index=None)"
   ]
  },
  {
   "cell_type": "code",
   "execution_count": null,
   "metadata": {},
   "outputs": [],
   "source": []
  }
 ],
 "metadata": {
  "kernelspec": {
   "display_name": "Python 3",
   "language": "python",
   "name": "python3"
  },
  "language_info": {
   "codemirror_mode": {
    "name": "ipython",
    "version": 3
   },
   "file_extension": ".py",
   "mimetype": "text/x-python",
   "name": "python",
   "nbconvert_exporter": "python",
   "pygments_lexer": "ipython3",
   "version": "3.6.4"
  }
 },
 "nbformat": 4,
 "nbformat_minor": 2
}
